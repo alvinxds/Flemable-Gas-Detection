{
 "cells": [
  {
   "cell_type": "code",
   "execution_count": 27,
   "metadata": {},
   "outputs": [],
   "source": [
    "import numpy as np\n",
    "import os\n",
    "import matplotlib.pyplot as plt\n",
    "import skvideo.io\n",
    "import cv2\n",
    "from scipy import ndimage\n",
    "import skimage.color as cl"
   ]
  },
  {
   "cell_type": "code",
   "execution_count": 28,
   "metadata": {},
   "outputs": [],
   "source": [
    "#Change current working directory\n",
    "imagePath = \"C:/Users/antonkout/Documents/Publications/paper/synchronized/new\"\n",
    "os.chdir(imagePath)"
   ]
  },
  {
   "cell_type": "code",
   "execution_count": 29,
   "metadata": {},
   "outputs": [],
   "source": [
    "exec(open(\"C:/Users/antonkout/Documents/Publications/paper/synchronized/new/helpers.py\").read()) "
   ]
  },
  {
   "cell_type": "code",
   "execution_count": 30,
   "metadata": {},
   "outputs": [],
   "source": [
    "rgb_mix1_sync = skvideo.io.vread(\"./rgb_mix1_sync.mp4\",outputdict={\"-pix_fmt\": \"gray\"})[:, :, :, 0]\n",
    "thermal_mix1_sync = skvideo.io.vread(\"./thermal_mix1_sync.mp4\",outputdict={\"-pix_fmt\": \"gray\"})[:, :, :, 0]"
   ]
  },
  {
   "cell_type": "code",
   "execution_count": 31,
   "metadata": {},
   "outputs": [],
   "source": [
    "def background_sub_Selective(in_vid, out_vid, par):\n",
    "    cap = cv2.VideoCapture(in_vid)\n",
    "    _,frame = cap.read()\n",
    "    size = (int(cap.get(3)),int(cap.get(4))) \n",
    "    fourcc = cv2.VideoWriter_fourcc(*'MP4V')\n",
    "    out = cv2.VideoWriter(out_vid, fourcc, 25.0, size, isColor=0)\n",
    "    avg = np.float32(frame)\n",
    "    \n",
    "    while(True):\n",
    "        _,frame = cap.read()\n",
    "        \n",
    "        if _ == True:\n",
    "            cv2.accumulateWeighted(frame,avg,par)\n",
    "            res = cv2.convertScaleAbs(avg)\n",
    "            res = cv2.cvtColor(res, cv2.COLOR_RGB2GRAY)\n",
    "            out.write(res)\n",
    "        \n",
    "        else:\n",
    "            break\n",
    "        \n",
    "        if cv2.waitKey(80) & 0xFF == ord('q'):\n",
    "            break\n",
    "    \n",
    "    cv2.destroyAllWindows()\n",
    "    cap.release()\n",
    "    out.release()"
   ]
  },
  {
   "cell_type": "code",
   "execution_count": 32,
   "metadata": {},
   "outputs": [],
   "source": [
    "def background_sub_MOG(in_vid, out_vid, par):\n",
    "    cap = cv2.VideoCapture(in_vid)\n",
    "    subtractor = cv2.bgsegm.createBackgroundSubtractorMOG(history=25, nmixtures = 5, backgroundRatio = par, noiseSigma = 0)\n",
    "    kernel = cv2.getStructuringElement(cv2.MORPH_ELLIPSE,(1,1))\n",
    "    size = (int(cap.get(3)),int(cap.get(4))) \n",
    "    fourcc = cv2.VideoWriter_fourcc(*'MP4V')\n",
    "    out = cv2.VideoWriter(out_vid, fourcc, 25.0, size, isColor=0)\n",
    "\n",
    "    while True:\n",
    "        _, frame = cap.read()\n",
    "\n",
    "        if _ == True:\n",
    "            mask = subtractor.apply(frame)\n",
    "            mask = cv2.morphologyEx(mask, cv2.MORPH_OPEN, kernel)\n",
    "            out.write(mask)\n",
    "        else:\n",
    "            break\n",
    "\n",
    "        if  cv2.waitKey(10) & 0xFF == ord('q'):\n",
    "            break\n",
    "\n",
    "    cv2.destroyAllWindows()\n",
    "    cap.release()\n",
    "    out.release()"
   ]
  },
  {
   "cell_type": "code",
   "execution_count": 33,
   "metadata": {},
   "outputs": [],
   "source": [
    "####Selective Background Subtraction####"
   ]
  },
  {
   "cell_type": "code",
   "execution_count": 74,
   "metadata": {},
   "outputs": [],
   "source": [
    "#RGB\n",
    "in_vid = 'rgb_mix1_sync.mp4'\n",
    "out_vid = \"./Selective/rgb_mix1_sel.mp4\"\n",
    "out_vid2 = \"./Selective/rgb_mix1_sel2.mp4\"\n",
    "par = 0.000001\n",
    "par2 = 0.3\n",
    "background_sub_Selective(in_vid, out_vid, par)\n",
    "background_sub_Selective(in_vid, out_vid2, par2)\n",
    "in_vid = 'thermal_mix1_sync.mp4'\n",
    "out_vid = \"./Selective/thermal_mix1_sel.mp4\"\n",
    "out_vid2 = \"./Selective/thermal_mix1_sel2.mp4\"\n",
    "background_sub_Selective(in_vid, out_vid, par)\n",
    "background_sub_Selective(in_vid, out_vid2, par2)"
   ]
  },
  {
   "cell_type": "code",
   "execution_count": null,
   "metadata": {},
   "outputs": [],
   "source": [
    "####MOG Background Subtraction####"
   ]
  },
  {
   "cell_type": "code",
   "execution_count": 14,
   "metadata": {},
   "outputs": [],
   "source": [
    "#RGB\n",
    "in_vid = 'rgb_mix1_sync.mp4'\n",
    "out_vid = \"./MOG/rgb_mix1_mog.mp4\"\n",
    "out_vid2 = \"./MOG/rgb_mix1_mog2.mp4\"\n",
    "par = 0.001\n",
    "par2 = 0.2\n",
    "background_sub_MOG(in_vid, out_vid, par)\n",
    "background_sub_MOG(in_vid, out_vid2, par2)\n",
    "in_vid = 'thermal_mix1_sync.mp4'\n",
    "out_vid = \"./MOG/thermal_mix1_mog.mp4\"\n",
    "out_vid2 = \"./MOG/thermal_mix1_mog2.mp4\"\n",
    "background_sub_MOG(in_vid, out_vid, par)\n",
    "background_sub_MOG(in_vid, out_vid2, par2)"
   ]
  },
  {
   "cell_type": "code",
   "execution_count": 75,
   "metadata": {},
   "outputs": [],
   "source": [
    "rgb_mix1_sel = skvideo.io.vread(\"C:/Users/antonkout/Documents/Publications/paper/synchronized/new/Selective/rgb_mix1_sel.mp4\",outputdict={\"-pix_fmt\": \"gray\"})[:, :, :, 0]\n",
    "thermal_mix1_sel = skvideo.io.vread(\"C:/Users/antonkout/Documents/Publications/paper/synchronized/new/Selective/thermal_mix1_sel.mp4\",outputdict={\"-pix_fmt\": \"gray\"})[:, :, :, 0]\n",
    "rgb_mix1_sel2= skvideo.io.vread(\"C:/Users/antonkout/Documents/Publications/paper/synchronized/new/Selective/rgb_mix1_sel2.mp4\",outputdict={\"-pix_fmt\": \"gray\"})[:, :, :, 0]\n",
    "thermal_mix1_sel2 = skvideo.io.vread(\"C:/Users/antonkout/Documents/Publications/paper/synchronized/new/Selective/thermal_mix1_sel2.mp4\",outputdict={\"-pix_fmt\": \"gray\"})[:, :, :, 0]"
   ]
  },
  {
   "cell_type": "code",
   "execution_count": 76,
   "metadata": {},
   "outputs": [],
   "source": [
    "rgb_mix1_sync = skvideo.io.vread(\"./rgb_mix1_sync.mp4\",outputdict={\"-pix_fmt\": \"gray\"})[:, :, :, 0]\n",
    "thermal_mix1_sync = skvideo.io.vread(\"./thermal_mix1_sync.mp4\",outputdict={\"-pix_fmt\": \"gray\"})[:, :, :, 0]\n",
    "rgb_mix1_sync = rgb_mix1_sync[:-1,:,:]\n",
    "thermal_mix1_sync = thermal_mix1_sync[:-1,:,:]"
   ]
  },
  {
   "cell_type": "code",
   "execution_count": 77,
   "metadata": {},
   "outputs": [],
   "source": [
    "dif = np.zeros(shape=rgb_mix1_sel.shape)\n",
    "thr = np.zeros(shape=rgb_mix1_sel.shape)\n",
    "c = np.zeros(shape=rgb_mix1_sel.shape[0])\n",
    "\n",
    "for k in range(rgb_mix1_sel.shape[0]):    \n",
    "    dif[k] = rgb_mix1_sync[k]-rgb_mix1_sel[k]\n",
    "    dif[k][np.where(dif[k]>235)]=0\n",
    "    c[k],thr[k] = cv2.threshold(dif[k],100,255,cv2.THRESH_BINARY)\n",
    "del c\n",
    "skvideo.io.vwrite('./Selective/rgb_diff_sel.mp4', thr)\n",
    "\n",
    "dif = np.zeros(shape=rgb_mix1_sel.shape)\n",
    "thr = np.zeros(shape=rgb_mix1_sel.shape)\n",
    "c = np.zeros(shape=rgb_mix1_sel.shape[0])\n",
    "\n",
    "for k in range(rgb_mix1_sel.shape[0]):    \n",
    "    dif[k] = rgb_mix1_sync[k]-rgb_mix1_sel2[k]\n",
    "    dif[k][np.where(dif[k]>235)]=0\n",
    "    c[k],thr[k] = cv2.threshold(dif[k],100,255,cv2.THRESH_BINARY)\n",
    "del c\n",
    "skvideo.io.vwrite('./Selective/rgb_diff_sel2.mp4', thr)"
   ]
  },
  {
   "cell_type": "code",
   "execution_count": 78,
   "metadata": {},
   "outputs": [],
   "source": [
    "dif = np.zeros(shape=thermal_mix1_sel.shape)\n",
    "thr = np.zeros(shape=thermal_mix1_sel.shape)\n",
    "c = np.zeros(shape=thermal_mix1_sel.shape[0])\n",
    "\n",
    "for k in range(thermal_mix1_sel.shape[0]):    \n",
    "    dif[k] = thermal_mix1_sync[k]-thermal_mix1_sel[k]\n",
    "    dif[k][np.where(dif[k]>235)]=0\n",
    "    c[k],thr[k] = cv2.threshold(dif[k],100,255,cv2.THRESH_BINARY)\n",
    "del c\n",
    "skvideo.io.vwrite('./Selective/thermal_diff_sel.mp4', thr)\n",
    "\n",
    "dif = np.zeros(shape=thermal_mix1_sel2.shape)\n",
    "thr = np.zeros(shape=thermal_mix1_sel2.shape)\n",
    "c = np.zeros(shape=thermal_mix1_sel2.shape[0])\n",
    "\n",
    "for k in range(thermal_mix1_sel2.shape[0]):    \n",
    "    dif[k] = thermal_mix1_sync[k]-thermal_mix1_sel2[k]\n",
    "    dif[k][np.where(dif[k]>235)]=0\n",
    "    c[k],thr[k] = cv2.threshold(dif[k],100,255,cv2.THRESH_BINARY)\n",
    "del c\n",
    "skvideo.io.vwrite('./Selective/thermal_diff_sel2.mp4', thr)"
   ]
  },
  {
   "cell_type": "code",
   "execution_count": 39,
   "metadata": {},
   "outputs": [],
   "source": [
    "#Create Background and Foreground Scenes"
   ]
  },
  {
   "cell_type": "code",
   "execution_count": 172,
   "metadata": {},
   "outputs": [],
   "source": [
    "thermal_mix1_sel = skvideo.io.vread(\"C:/Users/antonkout/Documents/Publications/paper/synchronized/new/Selective/thermal_diff_sel.mp4\",outputdict={\"-pix_fmt\": \"gray\"})[:, :, :, 0]\n",
    "rgb_mix1_sel = skvideo.io.vread(\"C:/Users/antonkout/Documents/Publications/paper/synchronized/new/Selective/rgb_diff_sel.mp4\",outputdict={\"-pix_fmt\": \"gray\"})[:, :, :, 0]\n",
    "thermal_mix1_sel2 = skvideo.io.vread(\"C:/Users/antonkout/Documents/Publications/paper/synchronized/new/Selective/thermal_diff_sel2.mp4\",outputdict={\"-pix_fmt\": \"gray\"})[:, :, :, 0]\n",
    "rgb_mix1_sel2 = skvideo.io.vread(\"C:/Users/antonkout/Documents/Publications/paper/synchronized/new/Selective/rgb_diff_sel2.mp4\",outputdict={\"-pix_fmt\": \"gray\"})[:, :, :, 0]"
   ]
  },
  {
   "cell_type": "code",
   "execution_count": 173,
   "metadata": {},
   "outputs": [],
   "source": [
    "thermal_mix1_mog = skvideo.io.vread(\"C:/Users/antonkout/Documents/Publications/paper/synchronized/new/MOG/thermal_mix1_mog.mp4\",outputdict={\"-pix_fmt\": \"gray\"})[:, :, :, 0]\n",
    "rgb_mix1_mog = skvideo.io.vread(\"C:/Users/antonkout/Documents/Publications/paper/synchronized/new/MOG/rgb_mix1_mog.mp4\",outputdict={\"-pix_fmt\": \"gray\"})[:, :, :, 0]\n",
    "thermal_mix1_mog2 = skvideo.io.vread(\"C:/Users/antonkout/Documents/Publications/paper/synchronized/new/MOG/thermal_mix1_mog2.mp4\",outputdict={\"-pix_fmt\": \"gray\"})[:, :, :, 0]\n",
    "rgb_mix1_mog2 = skvideo.io.vread(\"C:/Users/antonkout/Documents/Publications/paper/synchronized/new/MOG/rgb_mix1_mog2.mp4\",outputdict={\"-pix_fmt\": \"gray\"})[:, :, :, 0]"
   ]
  },
  {
   "cell_type": "code",
   "execution_count": 174,
   "metadata": {},
   "outputs": [],
   "source": [
    "for k in range(thermal_mix1_sel.shape[0]):\n",
    "    thermal_mix1_sel[k] = np.sign(thermal_mix1_sel[k])    \n",
    "    rgb_mix1_sel[k] = np.sign(rgb_mix1_sel[k])\n",
    "    thermal_mix1_sel2[k] = np.sign(thermal_mix1_sel2[k])    \n",
    "    rgb_mix1_sel2[k] = np.sign(rgb_mix1_sel2[k])  \n",
    "    thermal_mix1_mog[k] = np.sign(thermal_mix1_mog[k])    \n",
    "    rgb_mix1_mog[k] = np.sign(rgb_mix1_mog[k])\n",
    "    thermal_mix1_mog2[k] = np.sign(thermal_mix1_mog2[k])    \n",
    "    rgb_mix1_mog2[k] = np.sign(rgb_mix1_mog2[k])  \n",
    "    \n",
    "background = np.zeros(shape=thermal_mix1_sel.shape)\n",
    "for k in range(thermal_mix1_sel.shape[0]):\n",
    "    background[k] = rgb_mix1_sel[k] + rgb_mix1_sel2[k] + thermal_mix1_sel2[k] + rgb_mix1_mog[k] + rgb_mix1_mog2[k] + thermal_mix1_mog[k] + thermal_mix1_mog2[k] \n",
    "    background[k] = np.where(background[k]>1, 1, background[k])\n",
    "    background[k] = np.where(background[k]==1, 255, background[k])\n",
    "\n",
    "skvideo.io.vwrite(\"./Selective/background.mp4\", background)\n",
    "    \n",
    "gas = np.zeros(shape=thermal_mix1_sel.shape)\n",
    "for k in range(thermal_mix1_sel.shape[0]):\n",
    "    gas[k] = thermal_mix1_sel[k]\n",
    "    gas[k] = np.where(gas[k]>1, 1, gas[k])\n",
    "    gas[k] = np.where(gas[k]==1, 255, gas[k])\n",
    "\n",
    "skvideo.io.vwrite(\"./Selective/gas.mp4\", gas)\n",
    "    \n",
    "gas_detect = np.zeros(shape=thermal_mix1_sel.shape)\n",
    "for k in range(thermal_mix1_sel.shape[0]):\n",
    "    gas_detect[k] = gas[k] - background[k]\n",
    "    gas_detect[k] = np.where(gas_detect[k]==1, 255, gas_detect[k])\n",
    "    gas_detect[k] = np.where(gas_detect[k]==(-1), 0, gas_detect[k])\n",
    "skvideo.io.vwrite(\"./Selective/gas_detect_sel.mp4\", gas_detect)"
   ]
  },
  {
   "cell_type": "code",
   "execution_count": 140,
   "metadata": {},
   "outputs": [],
   "source": [
    "a = 100\n",
    "b = 255\n",
    "for k in range(thermal_mix1_sel.shape[0]):\n",
    "    thermal_mix1_sel[k] = np.sign(cv2.threshold(thermal_mix1_sel[k],a,b,cv2.THRESH_BINARY)[1])    \n",
    "    rgb_mix1_sel[k] = np.sign(cv2.threshold(rgb_mix1_sel[k],a,b,cv2.THRESH_BINARY)[1])\n",
    "    thermal_mix1_sel2[k] = np.sign(cv2.threshold(thermal_mix1_sel2[k],a,b,cv2.THRESH_BINARY)[1])    \n",
    "    rgb_mix1_sel2[k] = np.sign(cv2.threshold(rgb_mix1_sel2[k],a,b,cv2.THRESH_BINARY)[1])  \n",
    "    thermal_mix1_mog[k] = np.sign(cv2.threshold(thermal_mix1_mog[k],a,b,cv2.THRESH_BINARY)[1])    \n",
    "    rgb_mix1_mog[k] = np.sign(cv2.threshold(rgb_mix1_mog[k],a,b,cv2.THRESH_BINARY)[1])\n",
    "    thermal_mix1_mog2[k] = np.sign(cv2.threshold(thermal_mix1_mog2[k],a,b,cv2.THRESH_BINARY)[1])    \n",
    "    rgb_mix1_mog2[k] = np.sign(cv2.threshold(rgb_mix1_mog2[k],a,b,cv2.THRESH_BINARY)[1])  \n",
    "    \n",
    "background = np.zeros(shape=thermal_mix1_sel.shape)\n",
    "for k in range(thermal_mix1_sel.shape[0]):\n",
    "    background[k] = rgb_mix1_sel[k] + rgb_mix1_sel2[k] + thermal_mix1_sel2[k] + rgb_mix1_mog[k] + rgb_mix1_mog2[k] + thermal_mix1_mog[k] + thermal_mix1_mog2[k] \n",
    "    background[k] = np.where(background[k]>1, 1, background[k])\n",
    "    background[k] = np.where(background[k]==1, 255, background[k])\n",
    "\n",
    "skvideo.io.vwrite(\"./Selective/background.mp4\", background)\n",
    "    \n",
    "gas = np.zeros(shape=thermal_mix1_sel.shape)\n",
    "for k in range(thermal_mix1_sel.shape[0]):\n",
    "    gas[k] = thermal_mix1_sel[k]\n",
    "    gas[k] = np.where(gas[k]>1, 1, gas[k])\n",
    "    gas[k] = np.where(gas[k]==1, 255, gas[k])\n",
    "\n",
    "skvideo.io.vwrite(\"./Selective/gas.mp4\", gas)\n",
    "    \n",
    "gas_detect = np.zeros(shape=thermal_mix1_sel.shape)\n",
    "for k in range(thermal_mix1_sel.shape[0]):\n",
    "    gas_detect[k] = gas[k] - background[k]\n",
    "    gas_detect[k] = np.where(gas_detect[k]==1, 255, gas_detect[k])\n",
    "    gas_detect[k] = np.where(gas_detect[k]==(-1), 0, gas_detect[k])\n",
    "skvideo.io.vwrite(\"./Selective/gas_detect_sel.mp4\", gas_detect)"
   ]
  },
  {
   "cell_type": "code",
   "execution_count": 82,
   "metadata": {},
   "outputs": [],
   "source": [
    "#Morphological Operations#"
   ]
  },
  {
   "cell_type": "code",
   "execution_count": 175,
   "metadata": {},
   "outputs": [],
   "source": [
    "gas_detect = skvideo.io.vread(\"./Selective/gas_detect_sel.mp4\",outputdict={\"-pix_fmt\": \"gray\"})[:, :, :, 0]\n",
    "kernel = cv2.getStructuringElement(cv2.MORPH_ELLIPSE,(2,2))\n",
    "kernel2 = cv2.getStructuringElement(cv2.MORPH_ELLIPSE,(2,2))\n",
    "\n",
    "for k in range(gas_detect.shape[0]):\n",
    "    gas_detect[k] = cv2.morphologyEx(gas_detect[k], cv2.MORPH_OPEN, kernel)\n",
    "    #gas_detect[k] = cv2.morphologyEx(gas_detect[k], cv2.MORPH_CLOSE, kernel2)\n",
    "skvideo.io.vwrite(\"./Selective/gas_detect_morph.mp4\", gas_detect)"
   ]
  },
  {
   "cell_type": "code",
   "execution_count": 176,
   "metadata": {},
   "outputs": [],
   "source": [
    "#Binary Connected Components\n",
    "gas_detect = skvideo.io.vread(\"./Selective/gas_detect_morph.mp4\",outputdict={\"-pix_fmt\": \"gray\"})[:, :, :, 0]\n",
    "gas_detect = bcc_fun(gas_detect,\"./Selective/gas_detect_bcc.mp4\",50)"
   ]
  },
  {
   "cell_type": "code",
   "execution_count": 177,
   "metadata": {},
   "outputs": [],
   "source": [
    "#Apply mask to thermal and rgb videos"
   ]
  },
  {
   "cell_type": "code",
   "execution_count": 178,
   "metadata": {},
   "outputs": [],
   "source": [
    "rgb_mix1_sync = skvideo.io.vread(\"./rgb_mix1_sync.mp4\",outputdict={\"-pix_fmt\": \"gray\"})[:, :, :, 0]\n",
    "thermal_mix1_sync = skvideo.io.vread(\"./thermal_mix1_sync.mp4\",outputdict={\"-pix_fmt\": \"gray\"})[:, :, :, 0]\n",
    "gas_detect = skvideo.io.vread(\"./Selective/gas_detect_bcc.mp4\",outputdict={\"-pix_fmt\": \"gray\"})[:, :, :, 0]"
   ]
  },
  {
   "cell_type": "code",
   "execution_count": 179,
   "metadata": {},
   "outputs": [],
   "source": [
    "video = thermal_mix1_sync.copy()\n",
    "video = np.asarray(video, dtype=np.uint8)\n",
    "for k in range (gas_detect.shape[0]):\n",
    "    for i in range (gas_detect.shape[1]):\n",
    "        for j in range (gas_detect.shape[2]):\n",
    "            if (gas_detect[k,i,j]!=0):\n",
    "                gas_detect[k,i,j] = thermal_mix1_sync[k,i,j]\n",
    "\n",
    "pseudo_color = np.zeros(shape=(gas_detect.shape[0],gas_detect.shape[1],gas_detect.shape[2],3))\n",
    "for k in range (gas_detect.shape[0]):\n",
    "    pseudo_color[k] = cv2.applyColorMap(gas_detect[k], cv2.COLORMAP_JET)"
   ]
  },
  {
   "cell_type": "code",
   "execution_count": 180,
   "metadata": {},
   "outputs": [],
   "source": [
    "gas_detect_color = np.zeros(shape=(gas_detect.shape[0],gas_detect.shape[1],gas_detect.shape[2],3))\n",
    "for k in range(gas_detect.shape[0]):\n",
    "    gas_detect_color[k] = cl.gray2rgb(thermal_mix1_sync[k])\n",
    "gas_detect_color = np.asarray(gas_detect_color, dtype=np.uint8)\n",
    "for k in range (pseudo_color.shape[0]):\n",
    "    for i in range (pseudo_color.shape[1]):\n",
    "        for j in range (pseudo_color.shape[2]):\n",
    "#            for h in range (pseudo_color.shape[3]):\n",
    "            if(pseudo_color[k,i,j,0]!=128):\n",
    "                gas_detect_color[k,i,j,0] = pseudo_color[k,i,j,0]"
   ]
  },
  {
   "cell_type": "code",
   "execution_count": 181,
   "metadata": {},
   "outputs": [],
   "source": [
    "skvideo.io.vwrite(\"./Selective/gas_detect_color.mp4\", gas_detect_color)"
   ]
  },
  {
   "cell_type": "code",
   "execution_count": null,
   "metadata": {},
   "outputs": [],
   "source": []
  }
 ],
 "metadata": {
  "kernelspec": {
   "display_name": "Python 3",
   "language": "python",
   "name": "python3"
  },
  "language_info": {
   "codemirror_mode": {
    "name": "ipython",
    "version": 3
   },
   "file_extension": ".py",
   "mimetype": "text/x-python",
   "name": "python",
   "nbconvert_exporter": "python",
   "pygments_lexer": "ipython3",
   "version": "3.8.5"
  },
  "varInspector": {
   "cols": {
    "lenName": 16,
    "lenType": 16,
    "lenVar": 40
   },
   "kernels_config": {
    "python": {
     "delete_cmd_postfix": "",
     "delete_cmd_prefix": "del ",
     "library": "var_list.py",
     "varRefreshCmd": "print(var_dic_list())"
    },
    "r": {
     "delete_cmd_postfix": ") ",
     "delete_cmd_prefix": "rm(",
     "library": "var_list.r",
     "varRefreshCmd": "cat(var_dic_list()) "
    }
   },
   "types_to_exclude": [
    "module",
    "function",
    "builtin_function_or_method",
    "instance",
    "_Feature"
   ],
   "window_display": false
  }
 },
 "nbformat": 4,
 "nbformat_minor": 4
}

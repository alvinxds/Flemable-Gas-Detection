{
 "cells": [
  {
   "cell_type": "code",
   "execution_count": 29,
   "metadata": {},
   "outputs": [],
   "source": [
    "import numpy as np\n",
    "import os\n",
    "import matplotlib.pyplot as plt\n",
    "import skvideo.io\n",
    "import cv2\n",
    "from scipy import ndimage"
   ]
  },
  {
   "cell_type": "code",
   "execution_count": 30,
   "metadata": {},
   "outputs": [],
   "source": [
    "#Change current working directory\n",
    "imagePath = \"C:/Users/antonkout/Documents/Publications/paper/synchronized/new\"\n",
    "os.chdir(imagePath)"
   ]
  },
  {
   "cell_type": "code",
   "execution_count": 31,
   "metadata": {},
   "outputs": [],
   "source": [
    "exec(open(\"C:/Users/antonkout/Documents/Publications/paper/synchronized/new/helpers.py\").read()) "
   ]
  },
  {
   "cell_type": "code",
   "execution_count": 32,
   "metadata": {},
   "outputs": [],
   "source": [
    "rgb_mix1_sync = skvideo.io.vread(\"./rgb_mix1_sync.mp4\",outputdict={\"-pix_fmt\": \"gray\"})[:, :, :, 0]\n",
    "thermal_mix1_sync = skvideo.io.vread(\"./thermal_mix1_sync.mp4\",outputdict={\"-pix_fmt\": \"gray\"})[:, :, :, 0]"
   ]
  },
  {
   "cell_type": "code",
   "execution_count": 33,
   "metadata": {},
   "outputs": [],
   "source": [
    "def background_sub_CNT(in_vid, out_vid, parmin, parmax):\n",
    "    cap = cv2.VideoCapture(in_vid)\n",
    "    kernel = cv2.getStructuringElement(cv2.MORPH_ELLIPSE,(1,1))\n",
    "    subtractor = cv2.bgsegm.createBackgroundSubtractorCNT(minPixelStability = parmin, useHistory = True, maxPixelStability = parmax, isParallel=True)\n",
    "    size = (int(cap.get(3)),int(cap.get(4))) \n",
    "    fourcc = cv2.VideoWriter_fourcc(*'MP4V')\n",
    "    out = cv2.VideoWriter(out_vid, fourcc, 25.0, size, isColor=0)\n",
    "\n",
    "    while True:\n",
    "        _, frame = cap.read()\n",
    "\n",
    "        if _ == True:\n",
    "            mask = subtractor.apply(frame)\n",
    "            mask = cv2.morphologyEx(mask, cv2.MORPH_OPEN, kernel)\n",
    "            mask = cv2.morphologyEx(mask, cv2.MORPH_CLOSE, kernel)\n",
    "            out.write(mask)\n",
    "        else:\n",
    "            break\n",
    "\n",
    "        if  cv2.waitKey(10) & 0xFF == ord('q'):\n",
    "            break\n",
    "\n",
    "    cv2.destroyAllWindows()\n",
    "    cap.release()\n",
    "    out.release()"
   ]
  },
  {
   "cell_type": "code",
   "execution_count": 34,
   "metadata": {},
   "outputs": [],
   "source": [
    "def background_sub_GSOC(in_vid, out_vid, par):\n",
    "    cap = cv2.VideoCapture(in_vid)\n",
    "    kernel = cv2.getStructuringElement(cv2.MORPH_ELLIPSE,(1,1))\n",
    "    subtractor = cv2.bgsegm.createBackgroundSubtractorGSOC(replaceRate = par,nSamples =5, hitsThreshold = 15, alpha = 0.01)\n",
    "    size = (int(cap.get(3)),int(cap.get(4))) \n",
    "    fourcc = cv2.VideoWriter_fourcc(*'MP4V')\n",
    "    out = cv2.VideoWriter(out_vid, fourcc, 25.0, size, isColor=0)\n",
    "\n",
    "    while True:\n",
    "        _, frame = cap.read()\n",
    "\n",
    "        if _ == True:\n",
    "            mask = subtractor.apply(frame)\n",
    "            mask = cv2.morphologyEx(mask, cv2.MORPH_OPEN, kernel)\n",
    "            mask = cv2.morphologyEx(mask, cv2.MORPH_CLOSE, kernel)\n",
    "            out.write(mask)\n",
    "        else:\n",
    "            break\n",
    "\n",
    "        if  cv2.waitKey(10) & 0xFF == ord('q'):\n",
    "            break\n",
    "\n",
    "    cv2.destroyAllWindows()\n",
    "    cap.release()\n",
    "    out.release()"
   ]
  },
  {
   "cell_type": "code",
   "execution_count": 35,
   "metadata": {},
   "outputs": [],
   "source": [
    "####CNT Background Subtraction####"
   ]
  },
  {
   "cell_type": "code",
   "execution_count": 36,
   "metadata": {},
   "outputs": [],
   "source": [
    "#RGB\n",
    "in_vid = './rgb_mix1_sync.mp4'\n",
    "out_vid = \"./CNT/rgb_mix1_cnt.mp4\"\n",
    "parmin = 1 \n",
    "parmax = 15 *60\n",
    "out_vid2 = \"./CNT/rgb_mix1_cnt2.mp4\"\n",
    "parmin2 = 1\n",
    "parmax2 = 2\n",
    "background_sub_CNT(in_vid, out_vid, parmin, parmax)\n",
    "background_sub_CNT(in_vid, out_vid2, parmin2, parmax2)\n",
    "#Thermal\n",
    "in_vid = './thermal_mix1_sync.mp4'\n",
    "out_vid = \"./CNT/thermal_mix1_cnt.mp4\"\n",
    "out_vid2 = \"./CNT/thermal_mix1_cnt2.mp4\"\n",
    "background_sub_CNT(in_vid, out_vid, parmin, parmax)\n",
    "background_sub_CNT(in_vid, out_vid2, parmin2, parmax2)"
   ]
  },
  {
   "cell_type": "code",
   "execution_count": 37,
   "metadata": {},
   "outputs": [],
   "source": [
    "####GSOC Background Subtraction####"
   ]
  },
  {
   "cell_type": "code",
   "execution_count": 38,
   "metadata": {},
   "outputs": [],
   "source": [
    "#RGB\n",
    "in_vid = './rgb_mix1_sync.mp4'\n",
    "out_vid = \"./GSOC/rgb_mix1_gsoc.mp4\"\n",
    "par= 0.001\n",
    "out_vid2 = \"./GSOC/rgb_mix1_gsoc2.mp4\"\n",
    "par2 = 1 \n",
    "background_sub_GSOC(in_vid, out_vid, par)\n",
    "background_sub_GSOC(in_vid, out_vid2, par2)\n",
    "#Thermal\n",
    "in_vid = './thermal_mix1_sync.mp4'\n",
    "out_vid = \"./GSOC/thermal_mix1_gsoc.mp4\"\n",
    "out_vid2 = \"./GSOC/thermal_mix1_gsoc2.mp4\"\n",
    "background_sub_GSOC(in_vid, out_vid, par)\n",
    "background_sub_GSOC(in_vid, out_vid2, par2)"
   ]
  },
  {
   "cell_type": "code",
   "execution_count": 39,
   "metadata": {},
   "outputs": [],
   "source": [
    "thermal_mix1_cnt = skvideo.io.vread(\"C:/Users/antonkout/Documents/Publications/paper/synchronized/new/CNT/thermal_mix1_cnt.mp4\",outputdict={\"-pix_fmt\": \"gray\"})[:, :, :, 0]\n",
    "rgb_mix1_cnt = skvideo.io.vread(\"C:/Users/antonkout/Documents/Publications/paper/synchronized/new/CNT/rgb_mix1_cnt.mp4\",outputdict={\"-pix_fmt\": \"gray\"})[:, :, :, 0]\n",
    "thermal_mix1_cnt2 = skvideo.io.vread(\"C:/Users/antonkout/Documents/Publications/paper/synchronized/new/CNT/thermal_mix1_cnt2.mp4\",outputdict={\"-pix_fmt\": \"gray\"})[:, :, :, 0]\n",
    "rgb_mix1_cnt2 = skvideo.io.vread(\"C:/Users/antonkout/Documents/Publications/paper/synchronized/new/CNT/rgb_mix1_cnt2.mp4\",outputdict={\"-pix_fmt\": \"gray\"})[:, :, :, 0]"
   ]
  },
  {
   "cell_type": "code",
   "execution_count": 40,
   "metadata": {},
   "outputs": [],
   "source": [
    "for k in range(thermal_mix1_cnt.shape[0]):\n",
    "    thermal_mix1_cnt[k] = np.sign(cv2.threshold(thermal_mix1_cnt[k],100,255,cv2.THRESH_BINARY)[1])    \n",
    "    rgb_mix1_cnt[k] = np.sign(cv2.threshold(rgb_mix1_cnt[k],100,255,cv2.THRESH_BINARY)[1])\n",
    "    thermal_mix1_cnt2[k] = np.sign(cv2.threshold(thermal_mix1_cnt2[k],100,255,cv2.THRESH_BINARY)[1])    \n",
    "    rgb_mix1_cnt2[k] = np.sign(cv2.threshold(rgb_mix1_cnt2[k],100,255,cv2.THRESH_BINARY)[1])  \n",
    "    \n",
    "background = np.zeros(shape=thermal_mix1_cnt.shape)\n",
    "for k in range(thermal_mix1_cnt.shape[0]):\n",
    "    background[k] = rgb_mix1_cnt[k] + rgb_mix1_cnt[k] + thermal_mix1_cnt2[k]\n",
    "    background[k] = np.where(background[k]>1, 1, background[k])\n",
    "    background[k] = np.where(background[k]==1, 255, background[k])\n",
    "\n",
    "gas = np.zeros(shape=thermal_mix1_cnt.shape)\n",
    "for k in range(thermal_mix1_cnt.shape[0]):\n",
    "    gas[k] = thermal_mix1_cnt[k]\n",
    "    gas[k] = np.where(gas[k]>1, 1, gas[k])\n",
    "    gas[k] = np.where(gas[k]==1, 255, gas[k])\n",
    "\n",
    "gas_detect = np.zeros(shape=thermal_mix1_cnt.shape)\n",
    "for k in range(thermal_mix1_cnt.shape[0]):\n",
    "    gas_detect[k] = gas[k] - background[k]\n",
    "    gas_detect[k] = np.where(gas_detect[k]==1, 255, gas_detect[k])\n",
    "    gas_detect[k] = np.where(gas_detect[k]==(-1), 0, gas_detect[k])\n",
    "skvideo.io.vwrite(\"./CNT/gas_detect.mp4\", gas_detect)"
   ]
  },
  {
   "cell_type": "code",
   "execution_count": 41,
   "metadata": {},
   "outputs": [],
   "source": [
    "thermal_mix1_gsoc = skvideo.io.vread(\"C:/Users/antonkout/Documents/Publications/paper/synchronized/new/GSOC/thermal_mix1_gsoc.mp4\",outputdict={\"-pix_fmt\": \"gray\"})[:, :, :, 0]\n",
    "rgb_mix1_gsoc = skvideo.io.vread(\"C:/Users/antonkout/Documents/Publications/paper/synchronized/new/GSOC/rgb_mix1_gsoc.mp4\",outputdict={\"-pix_fmt\": \"gray\"})[:, :, :, 0]\n",
    "thermal_mix1_gsoc2 = skvideo.io.vread(\"C:/Users/antonkout/Documents/Publications/paper/synchronized/new/GSOC/thermal_mix1_gsoc2.mp4\",outputdict={\"-pix_fmt\": \"gray\"})[:, :, :, 0]\n",
    "rgb_mix1_gsoc2 = skvideo.io.vread(\"C:/Users/antonkout/Documents/Publications/paper/synchronized/new/GSOC/rgb_mix1_gsoc2.mp4\",outputdict={\"-pix_fmt\": \"gray\"})[:, :, :, 0]"
   ]
  },
  {
   "cell_type": "code",
   "execution_count": 42,
   "metadata": {},
   "outputs": [],
   "source": [
    "for k in range(thermal_mix1_gsoc.shape[0]):\n",
    "    thermal_mix1_gsoc[k] = np.sign(cv2.threshold(thermal_mix1_gsoc[k],100,255,cv2.THRESH_BINARY)[1])    \n",
    "    rgb_mix1_gsoc[k] = np.sign(cv2.threshold(rgb_mix1_gsoc[k],100,255,cv2.THRESH_BINARY)[1])\n",
    "    thermal_mix1_gsoc2[k] = np.sign(cv2.threshold(thermal_mix1_gsoc2[k],100,255,cv2.THRESH_BINARY)[1])    \n",
    "    rgb_mix1_gsoc2[k] = np.sign(cv2.threshold(rgb_mix1_gsoc2[k],100,255,cv2.THRESH_BINARY)[1])  \n",
    "    \n",
    "background = np.zeros(shape=thermal_mix1_gsoc.shape)\n",
    "for k in range(thermal_mix1_gsoc.shape[0]):\n",
    "    background[k] = rgb_mix1_gsoc[k] + rgb_mix1_gsoc[k] + thermal_mix1_gsoc2[k]\n",
    "    background[k] = np.where(background[k]>1, 1, background[k])\n",
    "    background[k] = np.where(background[k]==1, 255, background[k])\n",
    "\n",
    "gas = np.zeros(shape=thermal_mix1_gsoc.shape)\n",
    "for k in range(thermal_mix1_gsoc.shape[0]):\n",
    "    gas[k] = thermal_mix1_gsoc[k]\n",
    "    gas[k] = np.where(gas[k]>1, 1, gas[k])\n",
    "    gas[k] = np.where(gas[k]==1, 255, gas[k])\n",
    "\n",
    "gas_detect = np.zeros(shape=thermal_mix1_gsoc.shape)\n",
    "for k in range(thermal_mix1_gsoc.shape[0]):\n",
    "    gas_detect[k] = gas[k] - background[k]\n",
    "    gas_detect[k] = np.where(gas_detect[k]==1, 255, gas_detect[k])\n",
    "    gas_detect[k] = np.where(gas_detect[k]==(-1), 0, gas_detect[k])\n",
    "skvideo.io.vwrite(\"./GSOC/gas_detect.mp4\", gas_detect)"
   ]
  },
  {
   "cell_type": "code",
   "execution_count": null,
   "metadata": {},
   "outputs": [],
   "source": []
  },
  {
   "cell_type": "code",
   "execution_count": null,
   "metadata": {},
   "outputs": [],
   "source": []
  },
  {
   "cell_type": "code",
   "execution_count": 45,
   "metadata": {},
   "outputs": [],
   "source": [
    "gas_detect_cnt = skvideo.io.vread(\"C:/Users/antonkout/Documents/Publications/paper/synchronized/new/CNT/gas_detect.mp4\",outputdict={\"-pix_fmt\": \"gray\"})[:, :, :, 0]\n",
    "gas_detect_gsoc = skvideo.io.vread(\"C:/Users/antonkout/Documents/Publications/paper/synchronized/new/GSOC/gas_detect.mp4\",outputdict={\"-pix_fmt\": \"gray\"})[:, :, :, 0]\n",
    "\n",
    "for k in range(gas_detect_cnt.shape[0]):\n",
    "    gas_detect_cnt[k] = np.sign(cv2.threshold(gas_detect_cnt[k],100,255,cv2.THRESH_BINARY)[1])    \n",
    "    gas_detect_gsoc[k] = np.sign(cv2.threshold(gas_detect_gsoc[k],100,255,cv2.THRESH_BINARY)[1])"
   ]
  },
  {
   "cell_type": "code",
   "execution_count": 50,
   "metadata": {},
   "outputs": [],
   "source": [
    "gas_detect = np.zeros(shape=gas_detect_cnt.shape)\n",
    "for k in range(gas_detect_cnt.shape[0]):\n",
    "    gas_detect[k] = gas_detect_cnt[k] + gas_detect_gsoc[k]\n",
    "    gas_detect[k] = np.where(gas_detect[k]==2, 255, gas_detect[k])\n",
    "    gas_detect[k] = np.where(gas_detect[k]<2, 0, gas_detect[k])\n",
    "skvideo.io.vwrite(\"./Results/gas_detect.mp4\", gas_detect)"
   ]
  },
  {
   "cell_type": "code",
   "execution_count": null,
   "metadata": {},
   "outputs": [],
   "source": []
  },
  {
   "cell_type": "code",
   "execution_count": null,
   "metadata": {},
   "outputs": [],
   "source": []
  },
  {
   "cell_type": "code",
   "execution_count": 80,
   "metadata": {},
   "outputs": [],
   "source": [
    "thermal_mix1_cnt = skvideo.io.vread(\"C:/Users/antonkout/Documents/Publications/paper/synchronized/new/CNT/thermal_mix1_cnt.mp4\",outputdict={\"-pix_fmt\": \"gray\"})[:, :, :, 0]\n",
    "rgb_mix1_cnt = skvideo.io.vread(\"C:/Users/antonkout/Documents/Publications/paper/synchronized/new/CNT/rgb_mix1_cnt.mp4\",outputdict={\"-pix_fmt\": \"gray\"})[:, :, :, 0]\n",
    "\n",
    "thermal_mix1_gsoc = skvideo.io.vread(\"C:/Users/antonkout/Documents/Publications/paper/synchronized/new/GSOC/thermal_mix1_gsoc.mp4\",outputdict={\"-pix_fmt\": \"gray\"})[:, :, :, 0]\n",
    "rgb_mix1_gsoc = skvideo.io.vread(\"C:/Users/antonkout/Documents/Publications/paper/synchronized/new/GSOC/rgb_mix1_gsoc.mp4\",outputdict={\"-pix_fmt\": \"gray\"})[:, :, :, 0]\n",
    "\n",
    "thermal_mix1_gsoc2 = skvideo.io.vread(\"C:/Users/antonkout/Documents/Publications/paper/synchronized/new/GSOC/thermal_mix1_gsoc2.mp4\",outputdict={\"-pix_fmt\": \"gray\"})[:, :, :, 0]"
   ]
  },
  {
   "cell_type": "code",
   "execution_count": 81,
   "metadata": {},
   "outputs": [],
   "source": [
    "for k in range(thermal_mix1_cnt.shape[0]):\n",
    "    thermal_mix1_cnt[k] = np.sign(cv2.threshold(thermal_mix1_cnt[k],100,255,cv2.THRESH_BINARY)[1])    \n",
    "    rgb_mix1_cnt[k] = np.sign(cv2.threshold(rgb_mix1_cnt[k],100,255,cv2.THRESH_BINARY)[1])\n",
    "    thermal_mix1_gsoc[k] = np.sign(cv2.threshold(thermal_mix1_gsoc[k],100,255,cv2.THRESH_BINARY)[1])    \n",
    "    rgb_mix1_gsoc[k] = np.sign(cv2.threshold(rgb_mix1_gsoc[k],100,255,cv2.THRESH_BINARY)[1])\n",
    "    thermal_mix1_gsoc2[k] = np.sign(cv2.threshold(thermal_mix1_gsoc2[k],100,255,cv2.THRESH_BINARY)[1])    "
   ]
  },
  {
   "cell_type": "code",
   "execution_count": 82,
   "metadata": {},
   "outputs": [],
   "source": [
    "background = np.zeros(shape=thermal_mix1_gsoc.shape)\n",
    "for k in range(thermal_mix1_cnt.shape[0]):\n",
    "    background[k] = rgb_mix1_cnt[k] + rgb_mix1_gsoc[k] + thermal_mix1_gsoc2[k]\n",
    "    background[k] = np.where(background[k]>1, 1, background[k])\n",
    "    background[k] = np.where(background[k]==1, 255, background[k])"
   ]
  },
  {
   "cell_type": "code",
   "execution_count": 83,
   "metadata": {},
   "outputs": [],
   "source": [
    "skvideo.io.vwrite(\"./Results/background.mp4\", background)"
   ]
  },
  {
   "cell_type": "code",
   "execution_count": 84,
   "metadata": {},
   "outputs": [],
   "source": [
    "gas = np.zeros(shape=thermal_mix1_gsoc.shape)\n",
    "for k in range(thermal_mix1_cnt.shape[0]):\n",
    "    gas[k] = thermal_mix1_cnt[k] + thermal_mix1_gsoc[k]\n",
    "    gas[k] = np.where(gas[k]==2, 1, gas[k])\n",
    "    gas[k] = np.where(gas[k]==1, 255, gas[k])"
   ]
  },
  {
   "cell_type": "code",
   "execution_count": 85,
   "metadata": {},
   "outputs": [],
   "source": [
    "skvideo.io.vwrite(\"./Results/gas.mp4\", gas)"
   ]
  },
  {
   "cell_type": "code",
   "execution_count": 86,
   "metadata": {},
   "outputs": [],
   "source": [
    "gas_detect = np.zeros(shape=thermal_mix1_gsoc.shape)\n",
    "for k in range(thermal_mix1_gsoc.shape[0]):\n",
    "    gas_detect[k] = gas[k] - background[k]\n",
    "    gas_detect[k] = np.where(gas_detect[k]==1, 255, gas_detect[k])\n",
    "    gas_detect[k] = np.where(gas_detect[k]==(-1), 0, gas_detect[k])"
   ]
  },
  {
   "cell_type": "code",
   "execution_count": 87,
   "metadata": {},
   "outputs": [],
   "source": [
    "skvideo.io.vwrite(\"./Results/gas_detect.mp4\", gas_detect)"
   ]
  },
  {
   "cell_type": "code",
   "execution_count": null,
   "metadata": {},
   "outputs": [],
   "source": []
  }
 ],
 "metadata": {
  "kernelspec": {
   "display_name": "Python 3",
   "language": "python",
   "name": "python3"
  },
  "language_info": {
   "codemirror_mode": {
    "name": "ipython",
    "version": 3
   },
   "file_extension": ".py",
   "mimetype": "text/x-python",
   "name": "python",
   "nbconvert_exporter": "python",
   "pygments_lexer": "ipython3",
   "version": "3.6.10"
  }
 },
 "nbformat": 4,
 "nbformat_minor": 4
}

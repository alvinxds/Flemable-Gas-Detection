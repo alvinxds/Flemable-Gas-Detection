{
 "cells": [
  {
   "cell_type": "code",
   "execution_count": 226,
   "metadata": {},
   "outputs": [],
   "source": [
    "import numpy as np\n",
    "import os\n",
    "import matplotlib.pyplot as plt\n",
    "import skvideo.io\n",
    "import cv2\n",
    "from scipy import ndimage"
   ]
  },
  {
   "cell_type": "code",
   "execution_count": 227,
   "metadata": {},
   "outputs": [],
   "source": [
    "#Change current working directory\n",
    "imagePath = \"C:/Users/antonkout/Documents/Publications/paper/synchronized/new\"\n",
    "os.chdir(imagePath)"
   ]
  },
  {
   "cell_type": "code",
   "execution_count": 228,
   "metadata": {},
   "outputs": [],
   "source": [
    "rgb_mix1_sync = skvideo.io.vread(\"./rgb_mix1_sync.mp4\",outputdict={\"-pix_fmt\": \"gray\"})[:, :, :, 0]\n",
    "thermal_mix1_sync = skvideo.io.vread(\"./thermal_mix1_sync.mp4\",outputdict={\"-pix_fmt\": \"gray\"})[:, :, :, 0]"
   ]
  },
  {
   "cell_type": "code",
   "execution_count": 229,
   "metadata": {},
   "outputs": [],
   "source": [
    "rgb_bgr = np.load('C:/Users/antonkout/Documents/Publications/paper/synchronized/new/code/rgb_background_initialization_img.npy')\n",
    "thm_bgr = np.load('C:/Users/antonkout/Documents/Publications/paper/synchronized/new/code/thermal_background_initialization_img.npy')"
   ]
  },
  {
   "cell_type": "code",
   "execution_count": 230,
   "metadata": {},
   "outputs": [],
   "source": [
    "def background_sub_MOG2(in_vid, out_vid):\n",
    "    cap = cv2.VideoCapture(in_vid)\n",
    "    subtractor = cv2.createBackgroundSubtractorMOG2(history=25, varThreshold=50, detectShadows=True)\n",
    "    kernel = cv2.getStructuringElement(cv2.MORPH_ELLIPSE,(3,3))\n",
    "    size = (int(cap.get(3)),int(cap.get(4))) \n",
    "    fourcc = cv2.VideoWriter_fourcc(*'MP4V')\n",
    "    out = cv2.VideoWriter(out_vid, fourcc, 25.0, size, isColor=0)\n",
    "\n",
    "    while True:\n",
    "        _, frame = cap.read()\n",
    "\n",
    "        if _ == True:\n",
    "            mask = subtractor.apply(frame)\n",
    "            mask = cv2.morphologyEx(mask, cv2.MORPH_OPEN, kernel)\n",
    "            out.write(mask)\n",
    "        else:\n",
    "            break\n",
    "\n",
    "        if  cv2.waitKey(10) & 0xFF == ord('q'):\n",
    "            break\n",
    "\n",
    "    cv2.destroyAllWindows()\n",
    "    cap.release()\n",
    "    out.release()"
   ]
  },
  {
   "cell_type": "code",
   "execution_count": 231,
   "metadata": {},
   "outputs": [],
   "source": [
    "def background_sub_MOG(in_vid, out_vid):\n",
    "    cap = cv2.VideoCapture(in_vid)\n",
    "    subtractor = cv2.bgsegm.createBackgroundSubtractorMOG(history=25, nmixtures = 5, backgroundRatio = 0.6, noiseSigma = 0)\n",
    "    kernel = cv2.getStructuringElement(cv2.MORPH_ELLIPSE,(3,3))\n",
    "    size = (int(cap.get(3)),int(cap.get(4))) \n",
    "    fourcc = cv2.VideoWriter_fourcc(*'MP4V')\n",
    "    out = cv2.VideoWriter(out_vid, fourcc, 25.0, size, isColor=0)\n",
    "\n",
    "    while True:\n",
    "        _, frame = cap.read()\n",
    "\n",
    "        if _ == True:\n",
    "            mask = subtractor.apply(frame)\n",
    "            mask = cv2.morphologyEx(mask, cv2.MORPH_OPEN, kernel)\n",
    "            out.write(mask)\n",
    "        else:\n",
    "            break\n",
    "\n",
    "        if  cv2.waitKey(10) & 0xFF == ord('q'):\n",
    "            break\n",
    "\n",
    "    cv2.destroyAllWindows()\n",
    "    cap.release()\n",
    "    out.release()"
   ]
  },
  {
   "cell_type": "code",
   "execution_count": 232,
   "metadata": {},
   "outputs": [],
   "source": [
    "def background_sub_GMG(in_vid, out_vid, thr):\n",
    "    cap = cv2.VideoCapture(in_vid)\n",
    "    kernel = cv2.getStructuringElement(cv2.MORPH_ELLIPSE,(3,3))\n",
    "    subtractor = cv2.bgsegm.createBackgroundSubtractorGMG(initializationFrames = 1, decisionThreshold = thr)\n",
    "    size = (int(cap.get(3)),int(cap.get(4))) \n",
    "    fourcc = cv2.VideoWriter_fourcc(*'MP4V')\n",
    "    out = cv2.VideoWriter(out_vid, fourcc, 25.0, size, isColor=0)\n",
    "\n",
    "    while True:\n",
    "        _, frame = cap.read()\n",
    "\n",
    "        if _ == True:\n",
    "            mask = subtractor.apply(frame)\n",
    "            mask = cv2.morphologyEx(mask, cv2.MORPH_OPEN, kernel)\n",
    "            out.write(mask)\n",
    "        else:\n",
    "            break\n",
    "\n",
    "        if  cv2.waitKey(10) & 0xFF == ord('q'):\n",
    "            break\n",
    "\n",
    "    cv2.destroyAllWindows()\n",
    "    cap.release()\n",
    "    out.release()"
   ]
  },
  {
   "cell_type": "code",
   "execution_count": 233,
   "metadata": {},
   "outputs": [],
   "source": [
    "def background_sub_GSOC(in_vid, out_vid, par):\n",
    "    cap = cv2.VideoCapture(in_vid)\n",
    "    kernel = cv2.getStructuringElement(cv2.MORPH_ELLIPSE,(3,3))\n",
    "    subtractor = cv2.bgsegm.createBackgroundSubtractorGSOC(replaceRate = par, hitsThreshold = 15, alpha = 0.01)\n",
    "    size = (int(cap.get(3)),int(cap.get(4))) \n",
    "    fourcc = cv2.VideoWriter_fourcc(*'MP4V')\n",
    "    out = cv2.VideoWriter(out_vid, fourcc, 25.0, size, isColor=0)\n",
    "\n",
    "    while True:\n",
    "        _, frame = cap.read()\n",
    "\n",
    "        if _ == True:\n",
    "            mask = subtractor.apply(frame)\n",
    "            mask = cv2.morphologyEx(mask, cv2.MORPH_OPEN, kernel)\n",
    "            out.write(mask)\n",
    "        else:\n",
    "            break\n",
    "\n",
    "        if  cv2.waitKey(10) & 0xFF == ord('q'):\n",
    "            break\n",
    "\n",
    "    cv2.destroyAllWindows()\n",
    "    cap.release()\n",
    "    out.release()"
   ]
  },
  {
   "cell_type": "code",
   "execution_count": 234,
   "metadata": {},
   "outputs": [],
   "source": [
    "def background_sub_Selective(in_vid, out_vid, a):\n",
    "    cap = cv2.VideoCapture(in_vid)\n",
    "    _,frame = cap.read()\n",
    "    size = (int(cap.get(3)),int(cap.get(4))) \n",
    "    fourcc = cv2.VideoWriter_fourcc(*'MP4V')\n",
    "    out = cv2.VideoWriter(out_vid, fourcc, 25.0, size, isColor=0)\n",
    "    avg = np.float32(frame)\n",
    "    \n",
    "    while(True):\n",
    "        _,frame = cap.read()\n",
    "        \n",
    "        if _ == True:\n",
    "            cv2.accumulateWeighted(frame,avg,a)\n",
    "            res = cv2.convertScaleAbs(avg)\n",
    "            res = cv2.cvtColor(res, cv2.COLOR_RGB2GRAY)\n",
    "            out.write(res)\n",
    "        \n",
    "        else:\n",
    "            break\n",
    "        \n",
    "        if cv2.waitKey(80) & 0xFF == ord('q'):\n",
    "            break\n",
    "    \n",
    "    cv2.destroyAllWindows()\n",
    "    cap.release()\n",
    "    out.release()"
   ]
  },
  {
   "cell_type": "code",
   "execution_count": 263,
   "metadata": {},
   "outputs": [],
   "source": [
    "def background_sub_CNT(in_vid, out_vid, par):\n",
    "    cap = cv2.VideoCapture(in_vid)\n",
    "    kernel = cv2.getStructuringElement(cv2.MORPH_ELLIPSE,(3,3))\n",
    "    subtractor = cv2.bgsegm.createBackgroundSubtractorCNT(minPixelStability = par, maxPixelStability = par *60)\n",
    "    size = (int(cap.get(3)),int(cap.get(4))) \n",
    "    fourcc = cv2.VideoWriter_fourcc(*'MP4V')\n",
    "    out = cv2.VideoWriter(out_vid, fourcc, 25.0, size, isColor=0)\n",
    "\n",
    "    while True:\n",
    "        _, frame = cap.read()\n",
    "\n",
    "        if _ == True:\n",
    "            mask = subtractor.apply(frame)\n",
    "            mask = cv2.morphologyEx(mask, cv2.MORPH_OPEN, kernel)\n",
    "            out.write(mask)\n",
    "        else:\n",
    "            break\n",
    "\n",
    "        if  cv2.waitKey(10) & 0xFF == ord('q'):\n",
    "            break\n",
    "\n",
    "    cv2.destroyAllWindows()\n",
    "    cap.release()\n",
    "    out.release()"
   ]
  },
  {
   "cell_type": "code",
   "execution_count": 260,
   "metadata": {},
   "outputs": [],
   "source": [
    "def background_sub_LSBP(in_vid, out_vid):\n",
    "    cap = cv2.VideoCapture(in_vid)\n",
    "    kernel = cv2.getStructuringElement(cv2.MORPH_ELLIPSE,(3,3))\n",
    "    subtractor = cv2.bgsegm.createBackgroundSubtractorLSBP()\n",
    "    size = (int(cap.get(3)),int(cap.get(4))) \n",
    "    fourcc = cv2.VideoWriter_fourcc(*'MP4V')\n",
    "    out = cv2.VideoWriter(out_vid, fourcc, 25.0, size, isColor=0)\n",
    "\n",
    "    while True:\n",
    "        _, frame = cap.read()\n",
    "\n",
    "        if _ == True:\n",
    "            mask = subtractor.apply(frame)\n",
    "            mask = cv2.morphologyEx(mask, cv2.MORPH_OPEN, kernel)\n",
    "            out.write(mask)\n",
    "        else:\n",
    "            break\n",
    "\n",
    "        if  cv2.waitKey(10) & 0xFF == ord('q'):\n",
    "            break\n",
    "\n",
    "    cv2.destroyAllWindows()\n",
    "    cap.release()\n",
    "    out.release()"
   ]
  },
  {
   "cell_type": "code",
   "execution_count": null,
   "metadata": {},
   "outputs": [],
   "source": [
    "####CNT Background Subtraction####"
   ]
  },
  {
   "cell_type": "code",
   "execution_count": 270,
   "metadata": {},
   "outputs": [],
   "source": [
    "#RGB\n",
    "in_vid = './rgb_mix1_sync.mp4'\n",
    "out_vid = \"./CNT/rgb_mix1_cnt.mp4\"\n",
    "par = 5\n",
    "background_sub_CNT(in_vid, out_vid, par)"
   ]
  },
  {
   "cell_type": "code",
   "execution_count": 271,
   "metadata": {},
   "outputs": [],
   "source": [
    "#Thermal\n",
    "in_vid = './thermal_mix1_sync.mp4'\n",
    "out_vid = \"./CNT/thermal_mix1_cnt.mp4\"\n",
    "par = 5\n",
    "background_sub_CNT(in_vid, out_vid, par)"
   ]
  },
  {
   "cell_type": "code",
   "execution_count": null,
   "metadata": {},
   "outputs": [],
   "source": [
    "####LSBP Background Subtraction####"
   ]
  },
  {
   "cell_type": "code",
   "execution_count": 268,
   "metadata": {},
   "outputs": [],
   "source": [
    "#RGB\n",
    "in_vid = './rgb_mix1_sync.mp4'\n",
    "out_vid = \"./LSBP/rgb_mix1_lsbp.mp4\"\n",
    "background_sub_LSBP(in_vid, out_vid)"
   ]
  },
  {
   "cell_type": "code",
   "execution_count": 269,
   "metadata": {},
   "outputs": [],
   "source": [
    "#Thermal\n",
    "in_vid = './thermal_mix1_sync.mp4'\n",
    "out_vid = \"./LSBP/thermal_mix1_lsbp.mp4\"\n",
    "background_sub_LSBP(in_vid, out_vid)"
   ]
  },
  {
   "cell_type": "code",
   "execution_count": 235,
   "metadata": {},
   "outputs": [],
   "source": [
    "####MOG Background Subtraction####"
   ]
  },
  {
   "cell_type": "code",
   "execution_count": 67,
   "metadata": {},
   "outputs": [],
   "source": [
    "#RGB\n",
    "in_vid = './rgb_mix1_sync.mp4'\n",
    "out_vid = \"./MOG/rgb_mix1_mog.mp4\"\n",
    "background_sub_MOG(in_vid, out_vid)"
   ]
  },
  {
   "cell_type": "code",
   "execution_count": 68,
   "metadata": {},
   "outputs": [],
   "source": [
    "#Thermal\n",
    "in_vid = './thermal_mix1_sync.mp4'\n",
    "out_vid = \"./MOG/thermal_mix1_mog.mp4\"\n",
    "background_sub_MOG(in_vid, out_vid)"
   ]
  },
  {
   "cell_type": "code",
   "execution_count": null,
   "metadata": {},
   "outputs": [],
   "source": [
    "####MOG2 Background Subtraction####"
   ]
  },
  {
   "cell_type": "code",
   "execution_count": 11,
   "metadata": {},
   "outputs": [],
   "source": [
    "#RGB\n",
    "in_vid = './rgb_mix1_sync.mp4'\n",
    "out_vid = \"./MOG2/rgb_mix1_mog2.mp4\"\n",
    "background_sub_MOG2(in_vid, out_vid)"
   ]
  },
  {
   "cell_type": "code",
   "execution_count": 32,
   "metadata": {},
   "outputs": [],
   "source": [
    "#Thermal\n",
    "in_vid = './thermal_mix1_sync.mp4'\n",
    "out_vid = \"./MOG2/thermal_mix1_mog2.mp4\"\n",
    "background_sub_MOG2(in_vid, out_vid)"
   ]
  },
  {
   "cell_type": "code",
   "execution_count": null,
   "metadata": {},
   "outputs": [],
   "source": [
    "####GMG Background Subtraction####"
   ]
  },
  {
   "cell_type": "code",
   "execution_count": 255,
   "metadata": {},
   "outputs": [],
   "source": [
    "#RGB\n",
    "in_vid = './rgb_mix1_sync.mp4'\n",
    "out_vid = \"./GMG/rgb_mix1_gmg.mp4\"\n",
    "thr = 0.6\n",
    "background_sub_GMG(in_vid, out_vid,thr)"
   ]
  },
  {
   "cell_type": "code",
   "execution_count": 256,
   "metadata": {},
   "outputs": [],
   "source": [
    "#Thermal\n",
    "in_vid = './thermal_mix1_sync.mp4'\n",
    "out_vid = \"./GMG/thermal_mix1_gmg.mp4\"\n",
    "thr=0.6\n",
    "background_sub_GMG(in_vid, out_vid,thr)"
   ]
  },
  {
   "cell_type": "code",
   "execution_count": 73,
   "metadata": {},
   "outputs": [],
   "source": [
    "####GSOC Background Subtraction####"
   ]
  },
  {
   "cell_type": "code",
   "execution_count": 236,
   "metadata": {},
   "outputs": [],
   "source": [
    "#RGB\n",
    "in_vid = './rgb_mix1_sync.mp4'\n",
    "out_vid = \"./GSOC/rgb_mix1_gsoc.mp4\"\n",
    "par = 0.0001\n",
    "background_sub_GSOC(in_vid, out_vid, par)"
   ]
  },
  {
   "cell_type": "code",
   "execution_count": 85,
   "metadata": {},
   "outputs": [],
   "source": [
    "#Thermal\n",
    "in_vid = './thermal_mix1_sync.mp4'\n",
    "out_vid = \"./GSOC/thermal_mix1_gsoc.mp4\"\n",
    "par = 0.0001\n",
    "background_sub_GSOC(in_vid, out_vid, par)"
   ]
  },
  {
   "cell_type": "code",
   "execution_count": null,
   "metadata": {},
   "outputs": [],
   "source": [
    "####Selective Model Background Subtraction####"
   ]
  },
  {
   "cell_type": "code",
   "execution_count": 28,
   "metadata": {},
   "outputs": [],
   "source": [
    "#RGB\n",
    "temp = np.append(rgb_bgr,rgb_mix1_sync)\n",
    "temp = temp.reshape(rgb_mix1_sync.shape[0]+1,rgb_mix1_sync.shape[1],rgb_mix1_sync.shape[2])\n",
    "skvideo.io.vwrite('rgb_mix1_sync_bgr.mp4', temp)"
   ]
  },
  {
   "cell_type": "code",
   "execution_count": 31,
   "metadata": {},
   "outputs": [],
   "source": [
    "in_vid = 'rgb_mix1_sync.mp4'\n",
    "out_vid = \"./Selective/rgb_mix1_sel.mp4\"\n",
    "a = 0.001\n",
    "background_sub_Selective(in_vid, out_vid, a)"
   ]
  },
  {
   "cell_type": "code",
   "execution_count": 34,
   "metadata": {},
   "outputs": [],
   "source": [
    "#Thermal\n",
    "temp = np.append(thm_bgr,thermal_mix1_sync)\n",
    "temp = temp.reshape(thermal_mix1_sync.shape[0]+1,thermal_mix1_sync.shape[1],thermal_mix1_sync.shape[2])\n",
    "skvideo.io.vwrite('thermal_mix1_sync_bgr.mp4', temp)"
   ]
  },
  {
   "cell_type": "code",
   "execution_count": 36,
   "metadata": {},
   "outputs": [],
   "source": [
    "in_vid = 'thermal_mix1_sync.mp4'\n",
    "out_vid = \"./Selective/thermal_mix1_sel.mp4\"\n",
    "a = 0.001\n",
    "background_sub_Selective(in_vid, out_vid, a)"
   ]
  },
  {
   "cell_type": "code",
   "execution_count": null,
   "metadata": {},
   "outputs": [],
   "source": []
  },
  {
   "cell_type": "code",
   "execution_count": null,
   "metadata": {},
   "outputs": [],
   "source": [
    "#####################################################"
   ]
  },
  {
   "cell_type": "code",
   "execution_count": null,
   "metadata": {},
   "outputs": [],
   "source": [
    "#Load selective model videos"
   ]
  },
  {
   "cell_type": "code",
   "execution_count": 6,
   "metadata": {},
   "outputs": [],
   "source": [
    "rgb_mix1_sel = skvideo.io.vread(\"C:/Users/antonkout/Documents/Publications/paper/synchronized/new/Selective/rgb_mix1_sel.mp4\",outputdict={\"-pix_fmt\": \"gray\"})[:, :, :, 0]\n",
    "thermal_mix1_sel = skvideo.io.vread(\"C:/Users/antonkout/Documents/Publications/paper/synchronized/new/Selective/thermal_mix1_sel.mp4\",outputdict={\"-pix_fmt\": \"gray\"})[:, :, :, 0]"
   ]
  },
  {
   "cell_type": "code",
   "execution_count": 25,
   "metadata": {},
   "outputs": [],
   "source": [
    "rgb_mix1_sync = rgb_mix1_sync[:-1,:,:]\n",
    "thermal_mix1_sync = thermal_mix1_sync[:-1,:,:]"
   ]
  },
  {
   "cell_type": "code",
   "execution_count": 16,
   "metadata": {},
   "outputs": [],
   "source": [
    "dif = np.zeros(shape=rgb_mix1_sel.shape)\n",
    "thr = np.zeros(shape=rgb_mix1_sel.shape)\n",
    "c = np.zeros(shape=rgb_mix1_sel.shape[0])\n",
    "\n",
    "for k in range(rgb_mix1_sel.shape[0]):    \n",
    "    dif[k] = rgb_mix1_sync[k]-rgb_mix1_sel[k]\n",
    "    dif[k][np.where(dif[k]>235)]=0\n",
    "    c[k],thr[k] = cv2.threshold(dif[k],100,255,cv2.THRESH_BINARY)\n",
    "del c"
   ]
  },
  {
   "cell_type": "code",
   "execution_count": 24,
   "metadata": {},
   "outputs": [],
   "source": [
    "skvideo.io.vwrite('rgb_diff.mp4', thr)"
   ]
  },
  {
   "cell_type": "code",
   "execution_count": 26,
   "metadata": {},
   "outputs": [],
   "source": [
    "dif = np.zeros(shape=thermal_mix1_sel.shape)\n",
    "thr = np.zeros(shape=thermal_mix1_sel.shape)\n",
    "c = np.zeros(shape=thermal_mix1_sel.shape[0])\n",
    "\n",
    "for k in range(thermal_mix1_sel.shape[0]):    \n",
    "    dif[k] = thermal_mix1_sync[k]-thermal_mix1_sel[k]\n",
    "    dif[k][np.where(dif[k]>235)]=0\n",
    "    c[k],thr[k] = cv2.threshold(dif[k],100,255,cv2.THRESH_BINARY)\n",
    "del c"
   ]
  },
  {
   "cell_type": "code",
   "execution_count": 28,
   "metadata": {},
   "outputs": [],
   "source": [
    "skvideo.io.vwrite('thermal_diff.mp4', thr)"
   ]
  },
  {
   "cell_type": "code",
   "execution_count": 27,
   "metadata": {},
   "outputs": [
    {
     "data": {
      "text/plain": [
       "<matplotlib.image.AxesImage at 0x249916d1668>"
      ]
     },
     "execution_count": 27,
     "metadata": {},
     "output_type": "execute_result"
    },
    {
     "data": {
      "image/png": "[encoded data removed]",
      "text/plain": [
       "<Figure size 432x288 with 1 Axes>"
      ]
     },
     "metadata": {
      "needs_background": "light"
     },
     "output_type": "display_data"
    }
   ],
   "source": [
    "plt.imshow(thr[10])"
   ]
  },
  {
   "cell_type": "code",
   "execution_count": null,
   "metadata": {},
   "outputs": [],
   "source": [
    "#################################"
   ]
  },
  {
   "cell_type": "code",
   "execution_count": 42,
   "metadata": {},
   "outputs": [],
   "source": [
    "rgb_mix1_sel_bgr = skvideo.io.vread(\"C:/Users/antonkout/Documents/Publications/paper/synchronized/new/Selective/rgb_mix1_sel_bgr.mp4\",outputdict={\"-pix_fmt\": \"gray\"})[:, :, :, 0]\n",
    "thermal_mix1_sel_bgr = skvideo.io.vread(\"C:/Users/antonkout/Documents/Publications/paper/synchronized/new/Selective/thermal_mix1_sel_bgr.mp4\",outputdict={\"-pix_fmt\": \"gray\"})[:, :, :, 0]"
   ]
  },
  {
   "cell_type": "code",
   "execution_count": 43,
   "metadata": {},
   "outputs": [
    {
     "name": "stdout",
     "output_type": "stream",
     "text": [
      "[(885, 240, 352), (885, 240, 352)]\n"
     ]
    }
   ],
   "source": [
    "print([rgb_mix1_sel_bgr.shape, rgb_mix1_sync.shape])"
   ]
  },
  {
   "cell_type": "code",
   "execution_count": 44,
   "metadata": {},
   "outputs": [],
   "source": [
    "dif = np.zeros(shape=rgb_mix1_sel_bgr.shape)\n",
    "thr = np.zeros(shape=rgb_mix1_sel_bgr.shape)\n",
    "c = np.zeros(shape=rgb_mix1_sel_bgr.shape[0])\n",
    "\n",
    "for k in range(rgb_mix1_sel_bgr.shape[0]):    \n",
    "    dif[k] = rgb_mix1_sync[k]-rgb_mix1_sel_bgr[k]\n",
    "    dif[k][np.where(dif[k]>235)]=0\n",
    "    c[k],thr[k] = cv2.threshold(dif[k],100,255,cv2.THRESH_BINARY)\n",
    "del c"
   ]
  },
  {
   "cell_type": "code",
   "execution_count": 45,
   "metadata": {},
   "outputs": [],
   "source": [
    "skvideo.io.vwrite('rgb_diff_bgr.mp4', thr)"
   ]
  },
  {
   "cell_type": "code",
   "execution_count": 46,
   "metadata": {},
   "outputs": [],
   "source": [
    "dif = np.zeros(shape=thermal_mix1_sel_bgr.shape)\n",
    "thr = np.zeros(shape=thermal_mix1_sel_bgr.shape)\n",
    "c = np.zeros(shape=thermal_mix1_sel_bgr.shape[0])\n",
    "\n",
    "for k in range(thermal_mix1_sel_bgr.shape[0]):    \n",
    "    dif[k] = thermal_mix1_sync[k]-thermal_mix1_sel_bgr[k]\n",
    "    dif[k][np.where(dif[k]>235)]=0\n",
    "    c[k],thr[k] = cv2.threshold(dif[k],100,255,cv2.THRESH_BINARY)\n",
    "del c"
   ]
  },
  {
   "cell_type": "code",
   "execution_count": 47,
   "metadata": {},
   "outputs": [],
   "source": [
    "skvideo.io.vwrite('thermal_diff_bgr.mp4', thr)"
   ]
  },
  {
   "cell_type": "code",
   "execution_count": null,
   "metadata": {},
   "outputs": [],
   "source": [
    "#############################Load background videos######################"
   ]
  },
  {
   "cell_type": "code",
   "execution_count": 244,
   "metadata": {},
   "outputs": [],
   "source": [
    "rgb_mix1_gmg = skvideo.io.vread(\"C:/Users/antonkout/Documents/Publications/paper/synchronized/new/GMG/rgb_mix1_gmg.mp4\",outputdict={\"-pix_fmt\": \"gray\"})[:-1, :, :, 0]\n",
    "thermal_mix1_gmg = skvideo.io.vread(\"C:/Users/antonkout/Documents/Publications/paper/synchronized/new/GMG/thermal_mix1_gmg.mp4\",outputdict={\"-pix_fmt\": \"gray\"})[:-1, :, :, 0]\n",
    "rgb_mix1_mog = skvideo.io.vread(\"C:/Users/antonkout/Documents/Publications/paper/synchronized/new/MOG/rgb_mix1_mog.mp4\",outputdict={\"-pix_fmt\": \"gray\"})[:-1, :, :, 0]\n",
    "thermal_mix1_mog = skvideo.io.vread(\"C:/Users/antonkout/Documents/Publications/paper/synchronized/new/MOG/thermal_mix1_mog.mp4\",outputdict={\"-pix_fmt\": \"gray\"})[:-1, :, :, 0]\n",
    "rgb_mix1_mog2 = skvideo.io.vread(\"C:/Users/antonkout/Documents/Publications/paper/synchronized/new/MOG2/rgb_mix1_mog2.mp4\",outputdict={\"-pix_fmt\": \"gray\"})[:-1, :, :, 0]\n",
    "thermal_mix1_mog2 = skvideo.io.vread(\"C:/Users/antonkout/Documents/Publications/paper/synchronized/new/MOG2/thermal_mix1_mog2.mp4\",outputdict={\"-pix_fmt\": \"gray\"})[:-1, :, :, 0]\n",
    "rgb_mix1_gsoc = skvideo.io.vread(\"C:/Users/antonkout/Documents/Publications/paper/synchronized/new/GSOC/rgb_mix1_gsoc.mp4\",outputdict={\"-pix_fmt\": \"gray\"})[:-1, :, :, 0]\n",
    "#rgb_diff = skvideo.io.vread(\"C:/Users/antonkout/Documents/Publications/paper/synchronized/new/Selective/rgb_diff.mp4\",outputdict={\"-pix_fmt\": \"gray\"})[:, :, :, 0]"
   ]
  },
  {
   "cell_type": "code",
   "execution_count": 245,
   "metadata": {},
   "outputs": [],
   "source": [
    "vid_bgr = np.zeros(shape=rgb_mix1_gmg.shape)\n",
    "for k in range(rgb_mix1_gmg.shape[0]):\n",
    "    vid_bgr[k] = rgb_mix1_gmg[k] + thermal_mix1_gmg[k] + rgb_mix1_mog[k] + thermal_mix1_mog[k] + rgb_mix1_mog2[k] + thermal_mix1_mog2[k] + rgb_mix1_gsoc[k] +rgb_diff[k]\n",
    "    vid_bgr[k] = np.sign(cv2.threshold(vid_bgr[k],100,255,cv2.THRESH_BINARY)[1])\n",
    "    vid_bgr[k] = np.where(vid_bgr[k]==1, 255, vid_bgr[k])"
   ]
  },
  {
   "cell_type": "code",
   "execution_count": 246,
   "metadata": {},
   "outputs": [],
   "source": [
    "skvideo.io.vwrite(\"video_background.mp4\", vid_bgr) "
   ]
  },
  {
   "cell_type": "code",
   "execution_count": null,
   "metadata": {},
   "outputs": [],
   "source": []
  },
  {
   "cell_type": "code",
   "execution_count": 247,
   "metadata": {},
   "outputs": [],
   "source": [
    "###########Load Gas Detected Videos#########################"
   ]
  },
  {
   "cell_type": "code",
   "execution_count": 248,
   "metadata": {},
   "outputs": [],
   "source": [
    "thermal_mix1_gsoc = skvideo.io.vread(\"C:/Users/antonkout/Documents/Publications/paper/synchronized/new/GSOC/thermal_mix1_gsoc.mp4\",outputdict={\"-pix_fmt\": \"gray\"})[:-1, :, :, 0]\n",
    "#thermal_diff = skvideo.io.vread(\"C:/Users/antonkout/Documents/Publications/paper/synchronized/new/Selective/thermal_diff.mp4\",outputdict={\"-pix_fmt\": \"gray\"})[:, :, :, 0]"
   ]
  },
  {
   "cell_type": "code",
   "execution_count": 249,
   "metadata": {},
   "outputs": [],
   "source": [
    "vid_gas = np.zeros(shape=thermal_mix1_gsoc.shape)\n",
    "for k in range(vid_gas.shape[0]):\n",
    "    vid_gas[k] = thermal_mix1_gsoc[k]\n",
    "    vid_gas[k] = np.sign(cv2.threshold(vid_gas[k],100,255,cv2.THRESH_BINARY)[1])\n",
    "    vid_gas[k] = np.where(vid_gas[k]==1, 255, vid_gas[k])"
   ]
  },
  {
   "cell_type": "code",
   "execution_count": 250,
   "metadata": {},
   "outputs": [],
   "source": [
    "skvideo.io.vwrite(\"video_gas.mp4\", vid_gas) "
   ]
  },
  {
   "cell_type": "code",
   "execution_count": 207,
   "metadata": {},
   "outputs": [],
   "source": [
    "###################Extract Gas from Background Video################"
   ]
  },
  {
   "cell_type": "code",
   "execution_count": 251,
   "metadata": {},
   "outputs": [],
   "source": [
    "gas_detect = np.zeros(shape=vid_gas.shape)\n",
    "for k in range(vid_gas.shape[0]):\n",
    "    gas_detect[k] = vid_gas[k] - vid_bgr[k]\n",
    "    gas_detect[k] = np.where(gas_detect[k]==-255, 0, gas_detect[k])"
   ]
  },
  {
   "cell_type": "code",
   "execution_count": 252,
   "metadata": {},
   "outputs": [],
   "source": [
    "skvideo.io.vwrite(\"gas_detect.mp4\", gas_detect)"
   ]
  },
  {
   "cell_type": "code",
   "execution_count": null,
   "metadata": {},
   "outputs": [],
   "source": []
  },
  {
   "cell_type": "code",
   "execution_count": null,
   "metadata": {},
   "outputs": [],
   "source": []
  },
  {
   "cell_type": "code",
   "execution_count": null,
   "metadata": {},
   "outputs": [],
   "source": [
    "######################################################################"
   ]
  },
  {
   "cell_type": "code",
   "execution_count": 272,
   "metadata": {},
   "outputs": [],
   "source": [
    "thermal_mix1_gsoc = skvideo.io.vread(\"C:/Users/antonkout/Documents/Publications/paper/synchronized/new/CNT/thermal_mix1_cnt.mp4\",outputdict={\"-pix_fmt\": \"gray\"})[:, :, :, 0]\n",
    "rgb_mix1_gsoc = skvideo.io.vread(\"C:/Users/antonkout/Documents/Publications/paper/synchronized/new/CNT/rgb_mix1_cnt.mp4\",outputdict={\"-pix_fmt\": \"gray\"})[:, :, :, 0]"
   ]
  },
  {
   "cell_type": "code",
   "execution_count": 241,
   "metadata": {},
   "outputs": [],
   "source": [
    "for k in range(thermal_mix1.shape[0]):\n",
    "    thermal_mix1_gsoc[k] = np.sign(cv2.threshold(thermal_mix1[k],100,255,cv2.THRESH_BINARY)[1])\n",
    "    thermal_mix1_gsoc[k] = np.where(thermal_mix1_gsoc[k]==1, 255, thermal_mix1_gsoc[k])\n",
    "    \n",
    "    rgb_mix1_gsoc[k] = np.sign(cv2.threshold(rgb_mix1_gsoc[k],100,255,cv2.THRESH_BINARY)[1])\n",
    "    rgb_mix1_gsoc[k] = np.where(rgb_mix1_gsoc[k]==1, 255, rgb_mix1_gsoc[k])"
   ]
  },
  {
   "cell_type": "code",
   "execution_count": 242,
   "metadata": {},
   "outputs": [],
   "source": [
    "gas_detect = np.zeros(shape=thermal_mix1_gsoc.shape)\n",
    "for k in range(thermal_mix1_gsoc.shape[0]):\n",
    "    gas_detect[k] = thermal_mix1_gsoc[k] - rgb_mix1_gsoc[k]\n",
    "    gas_detect[k] = np.where(gas_detect[k]==-255, 0, gas_detect[k])"
   ]
  },
  {
   "cell_type": "code",
   "execution_count": 243,
   "metadata": {},
   "outputs": [],
   "source": [
    "skvideo.io.vwrite(\"./CNT/gas_detect_cnt.mp4\", gas_detect)"
   ]
  },
  {
   "cell_type": "code",
   "execution_count": null,
   "metadata": {},
   "outputs": [],
   "source": []
  }
 ],
 "metadata": {
  "kernelspec": {
   "display_name": "Python 3",
   "language": "python",
   "name": "python3"
  },
  "language_info": {
   "codemirror_mode": {
    "name": "ipython",
    "version": 3
   },
   "file_extension": ".py",
   "mimetype": "text/x-python",
   "name": "python",
   "nbconvert_exporter": "python",
   "pygments_lexer": "ipython3",
   "version": "3.6.12"
  },
  "varInspector": {
   "cols": {
    "lenName": 16,
    "lenType": 16,
    "lenVar": 40
   },
   "kernels_config": {
    "python": {
     "delete_cmd_postfix": "",
     "delete_cmd_prefix": "del ",
     "library": "var_list.py",
     "varRefreshCmd": "print(var_dic_list())"
    },
    "r": {
     "delete_cmd_postfix": ") ",
     "delete_cmd_prefix": "rm(",
     "library": "var_list.r",
     "varRefreshCmd": "cat(var_dic_list()) "
    }
   },
   "types_to_exclude": [
    "module",
    "function",
    "builtin_function_or_method",
    "instance",
    "_Feature"
   ],
   "window_display": false
  }
 },
 "nbformat": 4,
 "nbformat_minor": 4
}

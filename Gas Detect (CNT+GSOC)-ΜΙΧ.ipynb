{
 "cells": [
  {
   "cell_type": "code",
   "execution_count": 1,
   "metadata": {},
   "outputs": [],
   "source": [
    "import numpy as np\n",
    "import os\n",
    "import matplotlib.pyplot as plt\n",
    "import skvideo.io\n",
    "import cv2\n",
    "from scipy import ndimage"
   ]
  },
  {
   "cell_type": "code",
   "execution_count": 2,
   "metadata": {},
   "outputs": [],
   "source": [
    "#Change current working directory\n",
    "imagePath = \"C:/Users/antonkout/Documents/Publications/paper/synchronized/new\"\n",
    "os.chdir(imagePath)"
   ]
  },
  {
   "cell_type": "code",
   "execution_count": 3,
   "metadata": {},
   "outputs": [],
   "source": [
    "exec(open(\"C:/Users/antonkout/Documents/Publications/paper/synchronized/new/helpers.py\").read()) "
   ]
  },
  {
   "cell_type": "code",
   "execution_count": 4,
   "metadata": {},
   "outputs": [],
   "source": [
    "rgb_mix1_sync = skvideo.io.vread(\"./rgb_mix1_sync.mp4\",outputdict={\"-pix_fmt\": \"gray\"})[:, :, :, 0]\n",
    "thermal_mix1_sync = skvideo.io.vread(\"./thermal_mix1_sync.mp4\",outputdict={\"-pix_fmt\": \"gray\"})[:, :, :, 0]"
   ]
  },
  {
   "cell_type": "code",
   "execution_count": 6,
   "metadata": {},
   "outputs": [],
   "source": [
    "def background_sub_CNT(in_vid, out_vid, parmin, parmax):\n",
    "    cap = cv2.VideoCapture(in_vid)\n",
    "    kernel = cv2.getStructuringElement(cv2.MORPH_ELLIPSE,(1,1))\n",
    "    subtractor = cv2.bgsegm.createBackgroundSubtractorCNT(minPixelStability = parmin, useHistory = True, maxPixelStability = parmax, isParallel=True)\n",
    "    size = (int(cap.get(3)),int(cap.get(4))) \n",
    "    fourcc = cv2.VideoWriter_fourcc(*'MP4V')\n",
    "    out = cv2.VideoWriter(out_vid, fourcc, 25.0, size, isColor=0)\n",
    "\n",
    "    while True:\n",
    "        _, frame = cap.read()\n",
    "\n",
    "        if _ == True:\n",
    "            mask = subtractor.apply(frame)\n",
    "            mask = cv2.morphologyEx(mask, cv2.MORPH_OPEN, kernel)\n",
    "            mask = cv2.morphologyEx(mask, cv2.MORPH_CLOSE, kernel)\n",
    "            out.write(mask)\n",
    "        else:\n",
    "            break\n",
    "\n",
    "        if  cv2.waitKey(10) & 0xFF == ord('q'):\n",
    "            break\n",
    "\n",
    "    cv2.destroyAllWindows()\n",
    "    cap.release()\n",
    "    out.release()"
   ]
  },
  {
   "cell_type": "code",
   "execution_count": 7,
   "metadata": {},
   "outputs": [],
   "source": [
    "def background_sub_GSOC(in_vid, out_vid, par):\n",
    "    cap = cv2.VideoCapture(in_vid)\n",
    "    kernel = cv2.getStructuringElement(cv2.MORPH_ELLIPSE,(1,1))\n",
    "    subtractor = cv2.bgsegm.createBackgroundSubtractorGSOC(replaceRate = par,nSamples =5, hitsThreshold = 15, alpha = 0.01)\n",
    "    size = (int(cap.get(3)),int(cap.get(4))) \n",
    "    fourcc = cv2.VideoWriter_fourcc(*'MP4V')\n",
    "    out = cv2.VideoWriter(out_vid, fourcc, 25.0, size, isColor=0)\n",
    "\n",
    "    while True:\n",
    "        _, frame = cap.read()\n",
    "\n",
    "        if _ == True:\n",
    "            mask = subtractor.apply(frame)\n",
    "            mask = cv2.morphologyEx(mask, cv2.MORPH_OPEN, kernel)\n",
    "            mask = cv2.morphologyEx(mask, cv2.MORPH_CLOSE, kernel)\n",
    "            out.write(mask)\n",
    "        else:\n",
    "            break\n",
    "\n",
    "        if  cv2.waitKey(10) & 0xFF == ord('q'):\n",
    "            break\n",
    "\n",
    "    cv2.destroyAllWindows()\n",
    "    cap.release()\n",
    "    out.release()"
   ]
  },
  {
   "cell_type": "code",
   "execution_count": 8,
   "metadata": {},
   "outputs": [],
   "source": [
    "####CNT Background Subtraction####"
   ]
  },
  {
   "cell_type": "code",
   "execution_count": 36,
   "metadata": {},
   "outputs": [],
   "source": [
    "#RGB\n",
    "in_vid = './rgb_mix1_sync.mp4'\n",
    "out_vid = \"./CNT/rgb_mix1_cnt.mp4\"\n",
    "parmin = 1 \n",
    "parmax = 15 *60\n",
    "out_vid2 = \"./CNT/rgb_mix1_cnt2.mp4\"\n",
    "parmin2 = 1\n",
    "parmax2 = 2\n",
    "background_sub_CNT(in_vid, out_vid, parmin, parmax)\n",
    "background_sub_CNT(in_vid, out_vid2, parmin2, parmax2)\n",
    "#Thermal\n",
    "in_vid = './thermal_mix1_sync.mp4'\n",
    "out_vid = \"./CNT/thermal_mix1_cnt.mp4\"\n",
    "out_vid2 = \"./CNT/thermal_mix1_cnt2.mp4\"\n",
    "background_sub_CNT(in_vid, out_vid, parmin, parmax)\n",
    "background_sub_CNT(in_vid, out_vid2, parmin2, parmax2)"
   ]
  },
  {
   "cell_type": "code",
   "execution_count": 37,
   "metadata": {},
   "outputs": [],
   "source": [
    "####GSOC Background Subtraction####"
   ]
  },
  {
   "cell_type": "code",
   "execution_count": 12,
   "metadata": {},
   "outputs": [],
   "source": [
    "#RGB\n",
    "in_vid = './rgb_mix1_sync.mp4'\n",
    "out_vid = \"./GSOC/rgb_mix1_gsoc.mp4\"\n",
    "par= 0.05\n",
    "out_vid2 = \"./GSOC/rgb_mix1_gsoc2.mp4\"\n",
    "par2 = 1\n",
    "background_sub_GSOC(in_vid, out_vid, par)\n",
    "background_sub_GSOC(in_vid, out_vid2, par2)\n",
    "#Thermal\n",
    "in_vid = './thermal_mix1_sync.mp4'\n",
    "out_vid = \"./GSOC/thermal_mix1_gsoc.mp4\"\n",
    "out_vid2 = \"./GSOC/thermal_mix1_gsoc2.mp4\"\n",
    "background_sub_GSOC(in_vid, out_vid, par)\n",
    "background_sub_GSOC(in_vid, out_vid2, par2)"
   ]
  },
  {
   "cell_type": "code",
   "execution_count": 39,
   "metadata": {},
   "outputs": [],
   "source": [
    "thermal_mix1_cnt = skvideo.io.vread(\"C:/Users/antonkout/Documents/Publications/paper/synchronized/new/CNT/thermal_mix1_cnt.mp4\",outputdict={\"-pix_fmt\": \"gray\"})[:, :, :, 0]\n",
    "rgb_mix1_cnt = skvideo.io.vread(\"C:/Users/antonkout/Documents/Publications/paper/synchronized/new/CNT/rgb_mix1_cnt.mp4\",outputdict={\"-pix_fmt\": \"gray\"})[:, :, :, 0]\n",
    "thermal_mix1_cnt2 = skvideo.io.vread(\"C:/Users/antonkout/Documents/Publications/paper/synchronized/new/CNT/thermal_mix1_cnt2.mp4\",outputdict={\"-pix_fmt\": \"gray\"})[:, :, :, 0]\n",
    "rgb_mix1_cnt2 = skvideo.io.vread(\"C:/Users/antonkout/Documents/Publications/paper/synchronized/new/CNT/rgb_mix1_cnt2.mp4\",outputdict={\"-pix_fmt\": \"gray\"})[:, :, :, 0]"
   ]
  },
  {
   "cell_type": "code",
   "execution_count": 40,
   "metadata": {},
   "outputs": [],
   "source": [
    "for k in range(thermal_mix1_cnt.shape[0]):\n",
    "    thermal_mix1_cnt[k] = np.sign(cv2.threshold(thermal_mix1_cnt[k],100,255,cv2.THRESH_BINARY)[1])    \n",
    "    rgb_mix1_cnt[k] = np.sign(cv2.threshold(rgb_mix1_cnt[k],100,255,cv2.THRESH_BINARY)[1])\n",
    "    thermal_mix1_cnt2[k] = np.sign(cv2.threshold(thermal_mix1_cnt2[k],100,255,cv2.THRESH_BINARY)[1])    \n",
    "    rgb_mix1_cnt2[k] = np.sign(cv2.threshold(rgb_mix1_cnt2[k],100,255,cv2.THRESH_BINARY)[1])  \n",
    "    \n",
    "background = np.zeros(shape=thermal_mix1_cnt.shape)\n",
    "for k in range(thermal_mix1_cnt.shape[0]):\n",
    "    background[k] = rgb_mix1_cnt[k] + rgb_mix1_cnt[k] + thermal_mix1_cnt2[k]\n",
    "    background[k] = np.where(background[k]>1, 1, background[k])\n",
    "    background[k] = np.where(background[k]==1, 255, background[k])\n",
    "\n",
    "gas = np.zeros(shape=thermal_mix1_cnt.shape)\n",
    "for k in range(thermal_mix1_cnt.shape[0]):\n",
    "    gas[k] = thermal_mix1_cnt[k]\n",
    "    gas[k] = np.where(gas[k]>1, 1, gas[k])\n",
    "    gas[k] = np.where(gas[k]==1, 255, gas[k])\n",
    "\n",
    "gas_detect = np.zeros(shape=thermal_mix1_cnt.shape)\n",
    "for k in range(thermal_mix1_cnt.shape[0]):\n",
    "    gas_detect[k] = gas[k] - background[k]\n",
    "    gas_detect[k] = np.where(gas_detect[k]==1, 255, gas_detect[k])\n",
    "    gas_detect[k] = np.where(gas_detect[k]==(-1), 0, gas_detect[k])\n",
    "skvideo.io.vwrite(\"./CNT/gas_detect_cnt.mp4\", gas_detect)"
   ]
  },
  {
   "cell_type": "code",
   "execution_count": 50,
   "metadata": {},
   "outputs": [],
   "source": [
    "thermal_mix1_gsoc = skvideo.io.vread(\"C:/Users/antonkout/Documents/Publications/paper/synchronized/new/GSOC/thermal_mix1_gsoc.mp4\",outputdict={\"-pix_fmt\": \"gray\"})[:, :, :, 0]\n",
    "rgb_mix1_gsoc = skvideo.io.vread(\"C:/Users/antonkout/Documents/Publications/paper/synchronized/new/GSOC/rgb_mix1_gsoc.mp4\",outputdict={\"-pix_fmt\": \"gray\"})[:, :, :, 0]\n",
    "thermal_mix1_gsoc2 = skvideo.io.vread(\"C:/Users/antonkout/Documents/Publications/paper/synchronized/new/GSOC/thermal_mix1_gsoc2.mp4\",outputdict={\"-pix_fmt\": \"gray\"})[:, :, :, 0]\n",
    "rgb_mix1_gsoc2 = skvideo.io.vread(\"C:/Users/antonkout/Documents/Publications/paper/synchronized/new/GSOC/rgb_mix1_gsoc2.mp4\",outputdict={\"-pix_fmt\": \"gray\"})[:, :, :, 0]"
   ]
  },
  {
   "cell_type": "code",
   "execution_count": 51,
   "metadata": {},
   "outputs": [],
   "source": [
    "thermal_mix1_cnt2 = skvideo.io.vread(\"C:/Users/antonkout/Documents/Publications/paper/synchronized/new/CNT/thermal_mix1_cnt2.mp4\",outputdict={\"-pix_fmt\": \"gray\"})[:, :, :, 0]\n",
    "kernel = cv2.getStructuringElement(cv2.MORPH_ELLIPSE,(3,3))\n",
    "kernel2 = cv2.getStructuringElement(cv2.MORPH_ELLIPSE,(7,7))\n",
    "thermal_mix1_cnt2_new = np.zeros(shape=thermal_mix1_cnt2.shape)\n",
    "for k in range(thermal_mix1_cnt2.shape[0]):\n",
    "    #thermal_mix1_gsoc2_new[k] = cv2.dilate(thermal_mix1_gsoc2[k],kernel,iterations = 1)\n",
    "    thermal_mix1_cnt2_new[k] = cv2.morphologyEx(thermal_mix1_cnt2[k], cv2.MORPH_OPEN, kernel)\n",
    "    thermal_mix1_cnt2_new[k] = cv2.morphologyEx(thermal_mix1_cnt2_new[k], cv2.MORPH_CLOSE, kernel2)\n",
    "    thermal_mix1_cnt2_new[k] = cv2.dilate(thermal_mix1_cnt2_new[k],kernel,iterations = 2)\n",
    "skvideo.io.vwrite(\"./GSOC/thermal_mix1_cnt2_new.mp4\", thermal_mix1_cnt2_new)"
   ]
  },
  {
   "cell_type": "code",
   "execution_count": 52,
   "metadata": {},
   "outputs": [],
   "source": [
    "thermal_mix1_cnt2_new = skvideo.io.vread(\"C:/Users/antonkout/Documents/Publications/paper/synchronized/new/GSOC/thermal_mix1_cnt2_new.mp4\",outputdict={\"-pix_fmt\": \"gray\"})[:, :, :, 0]"
   ]
  },
  {
   "cell_type": "code",
   "execution_count": 53,
   "metadata": {},
   "outputs": [],
   "source": [
    "for k in range(thermal_mix1_gsoc.shape[0]):\n",
    "    thermal_mix1_gsoc[k] = np.sign(cv2.threshold(thermal_mix1_gsoc[k],100,255,cv2.THRESH_BINARY)[1])    \n",
    "    rgb_mix1_gsoc[k] = np.sign(cv2.threshold(rgb_mix1_gsoc[k],100,255,cv2.THRESH_BINARY)[1])\n",
    "    thermal_mix1_gsoc2[k] = np.sign(cv2.threshold(thermal_mix1_gsoc2[k],100,255,cv2.THRESH_BINARY)[1])    \n",
    "    rgb_mix1_gsoc2[k] = np.sign(cv2.threshold(rgb_mix1_gsoc2[k],100,255,cv2.THRESH_BINARY)[1])  \n",
    "    thermal_mix1_cnt2_new[k] = np.sign(cv2.threshold(thermal_mix1_cnt2_new[k],100,255,cv2.THRESH_BINARY)[1])  \n",
    "    \n",
    "background = np.zeros(shape=thermal_mix1_gsoc.shape)\n",
    "\n",
    "for k in range(thermal_mix1_gsoc.shape[0]):\n",
    "    background[k] = rgb_mix1_gsoc[k] + rgb_mix1_gsoc[k] + thermal_mix1_cnt2_new[k] + thermal_mix1_gsoc2[k] \n",
    "    background[k] = np.where(background[k]>0, 1, background[k])\n",
    "    background[k] = np.where(background[k]==1, 255, background[k])\n",
    "#    background[k] = cv2.dilate(background[k],kernel,iterations = 2)\n",
    "\n",
    "skvideo.io.vwrite(\"./GSOC/background.mp4\", background)\n",
    "\n",
    "gas = np.zeros(shape=thermal_mix1_gsoc.shape)\n",
    "#kernel = cv2.getStructuringElement(cv2.MORPH_ELLIPSE,(5,5))\n",
    "for k in range(thermal_mix1_gsoc.shape[0]):\n",
    "    gas[k] = thermal_mix1_gsoc[k]\n",
    "    gas[k] = np.where(gas[k]>0, 1, gas[k])\n",
    "    gas[k] = np.where(gas[k]==1, 255, gas[k])\n",
    "#    gas[k] = cv2.morphologyEx(gas[k], cv2.MORPH_OPEN, kernel)\n",
    "\n",
    "skvideo.io.vwrite(\"./GSOC/gas.mp4\", gas)\n",
    "\n",
    "gas_detect = np.zeros(shape=thermal_mix1_gsoc.shape)\n",
    "kernel = cv2.getStructuringElement(cv2.MORPH_ELLIPSE,(3,3))\n",
    "kernel2 = cv2.getStructuringElement(cv2.MORPH_ELLIPSE,(5,5))\n",
    "for k in range(thermal_mix1_gsoc.shape[0]):\n",
    "    gas_detect[k] = gas[k] - background[k]\n",
    "    gas_detect[k] = np.where(gas_detect[k]==1, 255, gas_detect[k])\n",
    "    gas_detect[k] = np.where(gas_detect[k]==(-1), 0, gas_detect[k])\n",
    "    gas_detect[k] = cv2.morphologyEx(gas_detect[k], cv2.MORPH_OPEN, kernel)\n",
    "    gas_detect[k] = cv2.morphologyEx(gas_detect[k], cv2.MORPH_CLOSE, kernel2)\n",
    "skvideo.io.vwrite(\"./GSOC/gas_detect_gsoc.mp4\", gas_detect)"
   ]
  },
  {
   "cell_type": "code",
   "execution_count": null,
   "metadata": {},
   "outputs": [],
   "source": [
    "#Apply mask to thermal and rgb videos"
   ]
  },
  {
   "cell_type": "code",
   "execution_count": 171,
   "metadata": {},
   "outputs": [],
   "source": [
    "rgb_mix1_sync = skvideo.io.vread(\"./rgb_mix1_sync.mp4\",outputdict={\"-pix_fmt\": \"gray\"})[:, :, :, 0]\n",
    "thermal_mix1_sync = skvideo.io.vread(\"./thermal_mix1_sync.mp4\",outputdict={\"-pix_fmt\": \"gray\"})[:, :, :, 0]\n",
    "gas_detect = skvideo.io.vread(\"./GSOC/gas_detect_gsoc.mp4\",outputdict={\"-pix_fmt\": \"gray\"})[:, :, :, 0]"
   ]
  },
  {
   "cell_type": "code",
   "execution_count": 172,
   "metadata": {},
   "outputs": [],
   "source": [
    "video = thermal_mix1_sync.copy()\n",
    "video = np.asarray(video, dtype=np.uint8)\n",
    "for k in range (gas_detect.shape[0]):\n",
    "    for i in range (gas_detect.shape[1]):\n",
    "        for j in range (gas_detect.shape[2]):\n",
    "            if (gas_detect[k,i,j]!=0):\n",
    "                gas_detect[k,i,j] = thermal_mix2_sync[k,i,j]\n",
    "\n",
    "pseudo_color = np.zeros(shape=(gas_detect.shape[0],gas_detect.shape[1],gas_detect.shape[2],3))\n",
    "for k in range (gas_detect.shape[0]):\n",
    "    pseudo_color[k] = cv2.applyColorMap(gas_detect[k], cv2.COLORMAP_JET)"
   ]
  },
  {
   "cell_type": "code",
   "execution_count": 174,
   "metadata": {},
   "outputs": [],
   "source": [
    "gas_detect_color = np.zeros(shape=(gas_detect.shape[0],gas_detect.shape[1],gas_detect.shape[2],3))\n",
    "for k in range(gas_detect.shape[0]):\n",
    "    gas_detect_color[k] = cl.gray2rgb(thermal_mix2_sync[k])\n",
    "gas_detect_color = np.asarray(gas_detect_color, dtype=np.uint8)\n",
    "for k in range (pseudo_color.shape[0]):\n",
    "    for i in range (pseudo_color.shape[1]):\n",
    "        for j in range (pseudo_color.shape[2]):\n",
    "#            for h in range (pseudo_color.shape[3]):\n",
    "            if(pseudo_color[k,i,j,0]!=128):\n",
    "                gas_detect_color[k,i,j,0] = pseudo_color[k,i,j,0]"
   ]
  },
  {
   "cell_type": "code",
   "execution_count": 175,
   "metadata": {},
   "outputs": [],
   "source": [
    "skvideo.io.vwrite(\"./GSOC/gas_detect_gsoc_color_mix1.mp4\", gas_detect_color)"
   ]
  },
  {
   "cell_type": "code",
   "execution_count": null,
   "metadata": {},
   "outputs": [],
   "source": []
  }
 ],
 "metadata": {
  "kernelspec": {
   "display_name": "Python 3",
   "language": "python",
   "name": "python3"
  },
  "language_info": {
   "codemirror_mode": {
    "name": "ipython",
    "version": 3
   },
   "file_extension": ".py",
   "mimetype": "text/x-python",
   "name": "python",
   "nbconvert_exporter": "python",
   "pygments_lexer": "ipython3",
   "version": "3.6.12"
  },
  "varInspector": {
   "cols": {
    "lenName": 16,
    "lenType": 16,
    "lenVar": 40
   },
   "kernels_config": {
    "python": {
     "delete_cmd_postfix": "",
     "delete_cmd_prefix": "del ",
     "library": "var_list.py",
     "varRefreshCmd": "print(var_dic_list())"
    },
    "r": {
     "delete_cmd_postfix": ") ",
     "delete_cmd_prefix": "rm(",
     "library": "var_list.r",
     "varRefreshCmd": "cat(var_dic_list()) "
    }
   },
   "types_to_exclude": [
    "module",
    "function",
    "builtin_function_or_method",
    "instance",
    "_Feature"
   ],
   "window_display": false
  }
 },
 "nbformat": 4,
 "nbformat_minor": 4
}
